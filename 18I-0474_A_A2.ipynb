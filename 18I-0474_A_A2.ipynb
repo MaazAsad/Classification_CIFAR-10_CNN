{
 "cells": [
  {
   "cell_type": "code",
   "execution_count": 1,
   "id": "b82d7b05",
   "metadata": {
    "execution": {
     "iopub.execute_input": "2022-05-09T14:31:21.811503Z",
     "iopub.status.busy": "2022-05-09T14:31:21.811039Z",
     "iopub.status.idle": "2022-05-09T14:31:21.823301Z",
     "shell.execute_reply": "2022-05-09T14:31:21.822551Z"
    },
    "papermill": {
     "duration": 0.082444,
     "end_time": "2022-05-09T14:31:21.825788",
     "exception": false,
     "start_time": "2022-05-09T14:31:21.743344",
     "status": "completed"
    },
    "tags": []
   },
   "outputs": [],
   "source": [
    "import numpy as np\n",
    "import pandas as pd\n",
    "import matplotlib.pyplot as plt\n",
    "import warnings\n",
    "from collections import Counter\n",
    "import copy\n",
    "import random\n",
    "%matplotlib inline\n",
    "import math as math\n",
    "warnings.filterwarnings('ignore')"
   ]
  },
  {
   "cell_type": "markdown",
   "id": "f948de4f",
   "metadata": {
    "papermill": {
     "duration": 0.063231,
     "end_time": "2022-05-09T14:31:21.954968",
     "exception": false,
     "start_time": "2022-05-09T14:31:21.891737",
     "status": "completed"
    },
    "tags": []
   },
   "source": [
    "# Loading Datasets"
   ]
  },
  {
   "cell_type": "markdown",
   "id": "a4118e93",
   "metadata": {
    "papermill": {
     "duration": 0.062596,
     "end_time": "2022-05-09T14:31:22.082911",
     "exception": false,
     "start_time": "2022-05-09T14:31:22.020315",
     "status": "completed"
    },
    "tags": []
   },
   "source": [
    "## Training Data"
   ]
  },
  {
   "cell_type": "code",
   "execution_count": 2,
   "id": "dd64fd64",
   "metadata": {
    "execution": {
     "iopub.execute_input": "2022-05-09T14:31:22.210019Z",
     "iopub.status.busy": "2022-05-09T14:31:22.209463Z",
     "iopub.status.idle": "2022-05-09T14:31:22.468697Z",
     "shell.execute_reply": "2022-05-09T14:31:22.467932Z"
    },
    "papermill": {
     "duration": 0.326395,
     "end_time": "2022-05-09T14:31:22.472100",
     "exception": false,
     "start_time": "2022-05-09T14:31:22.145705",
     "status": "completed"
    },
    "tags": []
   },
   "outputs": [
    {
     "data": {
      "text/html": [
       "<div>\n",
       "<style scoped>\n",
       "    .dataframe tbody tr th:only-of-type {\n",
       "        vertical-align: middle;\n",
       "    }\n",
       "\n",
       "    .dataframe tbody tr th {\n",
       "        vertical-align: top;\n",
       "    }\n",
       "\n",
       "    .dataframe thead th {\n",
       "        text-align: right;\n",
       "    }\n",
       "</style>\n",
       "<table border=\"1\" class=\"dataframe\">\n",
       "  <thead>\n",
       "    <tr style=\"text-align: right;\">\n",
       "      <th></th>\n",
       "      <th>age</th>\n",
       "      <th>workclass</th>\n",
       "      <th>fnlwgt</th>\n",
       "      <th>education</th>\n",
       "      <th>education-num</th>\n",
       "      <th>marital-status</th>\n",
       "      <th>occupation</th>\n",
       "      <th>relationship</th>\n",
       "      <th>race</th>\n",
       "      <th>sex</th>\n",
       "      <th>capital-gain</th>\n",
       "      <th>capital-loss</th>\n",
       "      <th>hours-per-week</th>\n",
       "      <th>native-country</th>\n",
       "      <th>class</th>\n",
       "    </tr>\n",
       "  </thead>\n",
       "  <tbody>\n",
       "    <tr>\n",
       "      <th>0</th>\n",
       "      <td>39.0</td>\n",
       "      <td>State-gov</td>\n",
       "      <td>77516.0</td>\n",
       "      <td>Bachelors</td>\n",
       "      <td>13.0</td>\n",
       "      <td>Never-married</td>\n",
       "      <td>Adm-clerical</td>\n",
       "      <td>Not-in-family</td>\n",
       "      <td>White</td>\n",
       "      <td>Male</td>\n",
       "      <td>2174.0</td>\n",
       "      <td>0.0</td>\n",
       "      <td>40.0</td>\n",
       "      <td>United-States</td>\n",
       "      <td>&lt;=50K</td>\n",
       "    </tr>\n",
       "    <tr>\n",
       "      <th>1</th>\n",
       "      <td>50.0</td>\n",
       "      <td>Self-emp-not-inc</td>\n",
       "      <td>83311.0</td>\n",
       "      <td>Bachelors</td>\n",
       "      <td>13.0</td>\n",
       "      <td>Married-civ-spouse</td>\n",
       "      <td>Exec-managerial</td>\n",
       "      <td>Husband</td>\n",
       "      <td>White</td>\n",
       "      <td>Male</td>\n",
       "      <td>0.0</td>\n",
       "      <td>0.0</td>\n",
       "      <td>13.0</td>\n",
       "      <td>United-States</td>\n",
       "      <td>&lt;=50K</td>\n",
       "    </tr>\n",
       "    <tr>\n",
       "      <th>2</th>\n",
       "      <td>38.0</td>\n",
       "      <td>Private</td>\n",
       "      <td>215646.0</td>\n",
       "      <td>HS-grad</td>\n",
       "      <td>9.0</td>\n",
       "      <td>Divorced</td>\n",
       "      <td>Handlers-cleaners</td>\n",
       "      <td>Not-in-family</td>\n",
       "      <td>White</td>\n",
       "      <td>Male</td>\n",
       "      <td>0.0</td>\n",
       "      <td>0.0</td>\n",
       "      <td>40.0</td>\n",
       "      <td>United-States</td>\n",
       "      <td>&lt;=50K</td>\n",
       "    </tr>\n",
       "    <tr>\n",
       "      <th>3</th>\n",
       "      <td>53.0</td>\n",
       "      <td>Private</td>\n",
       "      <td>234721.0</td>\n",
       "      <td>11th</td>\n",
       "      <td>7.0</td>\n",
       "      <td>Married-civ-spouse</td>\n",
       "      <td>Handlers-cleaners</td>\n",
       "      <td>Husband</td>\n",
       "      <td>Black</td>\n",
       "      <td>Male</td>\n",
       "      <td>0.0</td>\n",
       "      <td>0.0</td>\n",
       "      <td>40.0</td>\n",
       "      <td>United-States</td>\n",
       "      <td>&lt;=50K</td>\n",
       "    </tr>\n",
       "    <tr>\n",
       "      <th>4</th>\n",
       "      <td>28.0</td>\n",
       "      <td>Private</td>\n",
       "      <td>338409.0</td>\n",
       "      <td>Bachelors</td>\n",
       "      <td>13.0</td>\n",
       "      <td>Married-civ-spouse</td>\n",
       "      <td>Prof-specialty</td>\n",
       "      <td>Wife</td>\n",
       "      <td>Black</td>\n",
       "      <td>Female</td>\n",
       "      <td>0.0</td>\n",
       "      <td>0.0</td>\n",
       "      <td>40.0</td>\n",
       "      <td>Cuba</td>\n",
       "      <td>&lt;=50K</td>\n",
       "    </tr>\n",
       "  </tbody>\n",
       "</table>\n",
       "</div>"
      ],
      "text/plain": [
       "    age          workclass    fnlwgt   education  education-num  \\\n",
       "0  39.0          State-gov   77516.0   Bachelors           13.0   \n",
       "1  50.0   Self-emp-not-inc   83311.0   Bachelors           13.0   \n",
       "2  38.0            Private  215646.0     HS-grad            9.0   \n",
       "3  53.0            Private  234721.0        11th            7.0   \n",
       "4  28.0            Private  338409.0   Bachelors           13.0   \n",
       "\n",
       "        marital-status          occupation    relationship    race      sex  \\\n",
       "0        Never-married        Adm-clerical   Not-in-family   White     Male   \n",
       "1   Married-civ-spouse     Exec-managerial         Husband   White     Male   \n",
       "2             Divorced   Handlers-cleaners   Not-in-family   White     Male   \n",
       "3   Married-civ-spouse   Handlers-cleaners         Husband   Black     Male   \n",
       "4   Married-civ-spouse      Prof-specialty            Wife   Black   Female   \n",
       "\n",
       "   capital-gain  capital-loss  hours-per-week  native-country   class  \n",
       "0        2174.0           0.0            40.0   United-States   <=50K  \n",
       "1           0.0           0.0            13.0   United-States   <=50K  \n",
       "2           0.0           0.0            40.0   United-States   <=50K  \n",
       "3           0.0           0.0            40.0   United-States   <=50K  \n",
       "4           0.0           0.0            40.0            Cuba   <=50K  "
      ]
     },
     "execution_count": 2,
     "metadata": {},
     "output_type": "execute_result"
    }
   ],
   "source": [
    "ColNames = ('age','workclass','fnlwgt','education','education-num','marital-status','occupation','relationship','race','sex','capital-gain','capital-loss','hours-per-week','native-country','class')\n",
    "\n",
    "ColTypes = {'age':np.float64,'workclass':object,'fnlwgt':np.float64,'education':object,'education-num':np.float64,'marital-status':str,'occupation':object,'relationship':object,'race':object,'sex':object,'capital-gain':np.float64,'capital-loss':np.float64,'hours-per-week':np.float64,'native-country':object,'class':object}\n",
    "\n",
    "Training_Data = pd.read_table('../input/dm2022-a2/adult.data', delimiter=',', names=ColNames,\n",
    "                   dtype=ColTypes)\n",
    "Training_Data.head()\n"
   ]
  },
  {
   "cell_type": "code",
   "execution_count": 3,
   "id": "4b1eecbd",
   "metadata": {
    "execution": {
     "iopub.execute_input": "2022-05-09T14:31:22.601482Z",
     "iopub.status.busy": "2022-05-09T14:31:22.600919Z",
     "iopub.status.idle": "2022-05-09T14:31:22.606009Z",
     "shell.execute_reply": "2022-05-09T14:31:22.605364Z"
    },
    "papermill": {
     "duration": 0.070945,
     "end_time": "2022-05-09T14:31:22.607708",
     "exception": false,
     "start_time": "2022-05-09T14:31:22.536763",
     "status": "completed"
    },
    "tags": []
   },
   "outputs": [
    {
     "data": {
      "text/plain": [
       "(32561, 15)"
      ]
     },
     "execution_count": 3,
     "metadata": {},
     "output_type": "execute_result"
    }
   ],
   "source": [
    "Training_Data.shape"
   ]
  },
  {
   "cell_type": "markdown",
   "id": "b327ec4e",
   "metadata": {
    "papermill": {
     "duration": 0.064307,
     "end_time": "2022-05-09T14:31:22.736986",
     "exception": false,
     "start_time": "2022-05-09T14:31:22.672679",
     "status": "completed"
    },
    "tags": []
   },
   "source": [
    "## Testing Data\n"
   ]
  },
  {
   "cell_type": "code",
   "execution_count": 4,
   "id": "d130dc31",
   "metadata": {
    "execution": {
     "iopub.execute_input": "2022-05-09T14:31:22.865948Z",
     "iopub.status.busy": "2022-05-09T14:31:22.865420Z",
     "iopub.status.idle": "2022-05-09T14:31:22.945819Z",
     "shell.execute_reply": "2022-05-09T14:31:22.945237Z"
    },
    "papermill": {
     "duration": 0.146939,
     "end_time": "2022-05-09T14:31:22.947641",
     "exception": false,
     "start_time": "2022-05-09T14:31:22.800702",
     "status": "completed"
    },
    "tags": []
   },
   "outputs": [
    {
     "data": {
      "text/html": [
       "<div>\n",
       "<style scoped>\n",
       "    .dataframe tbody tr th:only-of-type {\n",
       "        vertical-align: middle;\n",
       "    }\n",
       "\n",
       "    .dataframe tbody tr th {\n",
       "        vertical-align: top;\n",
       "    }\n",
       "\n",
       "    .dataframe thead th {\n",
       "        text-align: right;\n",
       "    }\n",
       "</style>\n",
       "<table border=\"1\" class=\"dataframe\">\n",
       "  <thead>\n",
       "    <tr style=\"text-align: right;\">\n",
       "      <th></th>\n",
       "      <th>age</th>\n",
       "      <th>workclass</th>\n",
       "      <th>fnlwgt</th>\n",
       "      <th>education</th>\n",
       "      <th>education-num</th>\n",
       "      <th>marital-status</th>\n",
       "      <th>occupation</th>\n",
       "      <th>relationship</th>\n",
       "      <th>race</th>\n",
       "      <th>sex</th>\n",
       "      <th>capital-gain</th>\n",
       "      <th>capital-loss</th>\n",
       "      <th>hours-per-week</th>\n",
       "      <th>native-country</th>\n",
       "      <th>class</th>\n",
       "    </tr>\n",
       "  </thead>\n",
       "  <tbody>\n",
       "    <tr>\n",
       "      <th>0</th>\n",
       "      <td>25.0</td>\n",
       "      <td>Private</td>\n",
       "      <td>226802.0</td>\n",
       "      <td>11th</td>\n",
       "      <td>7.0</td>\n",
       "      <td>Never-married</td>\n",
       "      <td>Machine-op-inspct</td>\n",
       "      <td>Own-child</td>\n",
       "      <td>Black</td>\n",
       "      <td>Male</td>\n",
       "      <td>0.0</td>\n",
       "      <td>0.0</td>\n",
       "      <td>40.0</td>\n",
       "      <td>United-States</td>\n",
       "      <td>&lt;=50K.</td>\n",
       "    </tr>\n",
       "    <tr>\n",
       "      <th>1</th>\n",
       "      <td>38.0</td>\n",
       "      <td>Private</td>\n",
       "      <td>89814.0</td>\n",
       "      <td>HS-grad</td>\n",
       "      <td>9.0</td>\n",
       "      <td>Married-civ-spouse</td>\n",
       "      <td>Farming-fishing</td>\n",
       "      <td>Husband</td>\n",
       "      <td>White</td>\n",
       "      <td>Male</td>\n",
       "      <td>0.0</td>\n",
       "      <td>0.0</td>\n",
       "      <td>50.0</td>\n",
       "      <td>United-States</td>\n",
       "      <td>&lt;=50K.</td>\n",
       "    </tr>\n",
       "    <tr>\n",
       "      <th>2</th>\n",
       "      <td>28.0</td>\n",
       "      <td>Local-gov</td>\n",
       "      <td>336951.0</td>\n",
       "      <td>Assoc-acdm</td>\n",
       "      <td>12.0</td>\n",
       "      <td>Married-civ-spouse</td>\n",
       "      <td>Protective-serv</td>\n",
       "      <td>Husband</td>\n",
       "      <td>White</td>\n",
       "      <td>Male</td>\n",
       "      <td>0.0</td>\n",
       "      <td>0.0</td>\n",
       "      <td>40.0</td>\n",
       "      <td>United-States</td>\n",
       "      <td>&gt;50K.</td>\n",
       "    </tr>\n",
       "    <tr>\n",
       "      <th>3</th>\n",
       "      <td>44.0</td>\n",
       "      <td>Private</td>\n",
       "      <td>160323.0</td>\n",
       "      <td>Some-college</td>\n",
       "      <td>10.0</td>\n",
       "      <td>Married-civ-spouse</td>\n",
       "      <td>Machine-op-inspct</td>\n",
       "      <td>Husband</td>\n",
       "      <td>Black</td>\n",
       "      <td>Male</td>\n",
       "      <td>7688.0</td>\n",
       "      <td>0.0</td>\n",
       "      <td>40.0</td>\n",
       "      <td>United-States</td>\n",
       "      <td>&gt;50K.</td>\n",
       "    </tr>\n",
       "    <tr>\n",
       "      <th>4</th>\n",
       "      <td>18.0</td>\n",
       "      <td>?</td>\n",
       "      <td>103497.0</td>\n",
       "      <td>Some-college</td>\n",
       "      <td>10.0</td>\n",
       "      <td>Never-married</td>\n",
       "      <td>?</td>\n",
       "      <td>Own-child</td>\n",
       "      <td>White</td>\n",
       "      <td>Female</td>\n",
       "      <td>0.0</td>\n",
       "      <td>0.0</td>\n",
       "      <td>30.0</td>\n",
       "      <td>United-States</td>\n",
       "      <td>&lt;=50K.</td>\n",
       "    </tr>\n",
       "  </tbody>\n",
       "</table>\n",
       "</div>"
      ],
      "text/plain": [
       "    age   workclass    fnlwgt      education  education-num  \\\n",
       "0  25.0     Private  226802.0           11th            7.0   \n",
       "1  38.0     Private   89814.0        HS-grad            9.0   \n",
       "2  28.0   Local-gov  336951.0     Assoc-acdm           12.0   \n",
       "3  44.0     Private  160323.0   Some-college           10.0   \n",
       "4  18.0           ?  103497.0   Some-college           10.0   \n",
       "\n",
       "        marital-status          occupation relationship    race      sex  \\\n",
       "0        Never-married   Machine-op-inspct    Own-child   Black     Male   \n",
       "1   Married-civ-spouse     Farming-fishing      Husband   White     Male   \n",
       "2   Married-civ-spouse     Protective-serv      Husband   White     Male   \n",
       "3   Married-civ-spouse   Machine-op-inspct      Husband   Black     Male   \n",
       "4        Never-married                   ?    Own-child   White   Female   \n",
       "\n",
       "   capital-gain  capital-loss  hours-per-week  native-country    class  \n",
       "0           0.0           0.0            40.0   United-States   <=50K.  \n",
       "1           0.0           0.0            50.0   United-States   <=50K.  \n",
       "2           0.0           0.0            40.0   United-States    >50K.  \n",
       "3        7688.0           0.0            40.0   United-States    >50K.  \n",
       "4           0.0           0.0            30.0   United-States   <=50K.  "
      ]
     },
     "execution_count": 4,
     "metadata": {},
     "output_type": "execute_result"
    }
   ],
   "source": [
    "ColNames = ('age','workclass','fnlwgt','education','education-num','marital-status','occupation','relationship','race','sex','capital-gain','capital-loss','hours-per-week','native-country','class')\n",
    "\n",
    "ColTypes = {'age':np.float64,'workclass':object,'fnlwgt':np.float64,'education':object,'education-num':np.float64,'marital-status':object,'occupation':object,'relationship':object,'race':object,'sex':object,'capital-gain':np.float64,'capital-loss':np.float64,'hours-per-week':np.float64,'native-country':object,'class':object}\n",
    "\n",
    "Testing_Data = pd.read_table('../input/dm2022-a2/adult.test', delimiter=',', names=ColNames,\n",
    "                   dtype=ColTypes,skiprows=1)\n",
    "Testing_Data.head()\n"
   ]
  },
  {
   "cell_type": "code",
   "execution_count": 5,
   "id": "a23464ad",
   "metadata": {
    "execution": {
     "iopub.execute_input": "2022-05-09T14:31:23.078719Z",
     "iopub.status.busy": "2022-05-09T14:31:23.078437Z",
     "iopub.status.idle": "2022-05-09T14:31:23.083020Z",
     "shell.execute_reply": "2022-05-09T14:31:23.082448Z"
    },
    "papermill": {
     "duration": 0.072673,
     "end_time": "2022-05-09T14:31:23.084742",
     "exception": false,
     "start_time": "2022-05-09T14:31:23.012069",
     "status": "completed"
    },
    "tags": []
   },
   "outputs": [
    {
     "data": {
      "text/plain": [
       "(16281, 15)"
      ]
     },
     "execution_count": 5,
     "metadata": {},
     "output_type": "execute_result"
    }
   ],
   "source": [
    "Testing_Data.shape"
   ]
  },
  {
   "cell_type": "markdown",
   "id": "ddc5a08c",
   "metadata": {
    "papermill": {
     "duration": 0.065348,
     "end_time": "2022-05-09T14:31:23.216253",
     "exception": false,
     "start_time": "2022-05-09T14:31:23.150905",
     "status": "completed"
    },
    "tags": []
   },
   "source": [
    "# Data Description"
   ]
  },
  {
   "cell_type": "markdown",
   "id": "75eb849e",
   "metadata": {
    "papermill": {
     "duration": 0.064762,
     "end_time": "2022-05-09T14:31:23.346793",
     "exception": false,
     "start_time": "2022-05-09T14:31:23.282031",
     "status": "completed"
    },
    "tags": []
   },
   "source": [
    "## Training Data"
   ]
  },
  {
   "cell_type": "code",
   "execution_count": 6,
   "id": "dd2ee28c",
   "metadata": {
    "execution": {
     "iopub.execute_input": "2022-05-09T14:31:23.479786Z",
     "iopub.status.busy": "2022-05-09T14:31:23.479221Z",
     "iopub.status.idle": "2022-05-09T14:31:23.525268Z",
     "shell.execute_reply": "2022-05-09T14:31:23.524474Z"
    },
    "papermill": {
     "duration": 0.114846,
     "end_time": "2022-05-09T14:31:23.527398",
     "exception": false,
     "start_time": "2022-05-09T14:31:23.412552",
     "status": "completed"
    },
    "tags": []
   },
   "outputs": [
    {
     "data": {
      "text/html": [
       "<div>\n",
       "<style scoped>\n",
       "    .dataframe tbody tr th:only-of-type {\n",
       "        vertical-align: middle;\n",
       "    }\n",
       "\n",
       "    .dataframe tbody tr th {\n",
       "        vertical-align: top;\n",
       "    }\n",
       "\n",
       "    .dataframe thead th {\n",
       "        text-align: right;\n",
       "    }\n",
       "</style>\n",
       "<table border=\"1\" class=\"dataframe\">\n",
       "  <thead>\n",
       "    <tr style=\"text-align: right;\">\n",
       "      <th></th>\n",
       "      <th>age</th>\n",
       "      <th>fnlwgt</th>\n",
       "      <th>education-num</th>\n",
       "      <th>capital-gain</th>\n",
       "      <th>capital-loss</th>\n",
       "      <th>hours-per-week</th>\n",
       "    </tr>\n",
       "  </thead>\n",
       "  <tbody>\n",
       "    <tr>\n",
       "      <th>count</th>\n",
       "      <td>32561.000000</td>\n",
       "      <td>3.256100e+04</td>\n",
       "      <td>32561.000000</td>\n",
       "      <td>32561.000000</td>\n",
       "      <td>32561.000000</td>\n",
       "      <td>32561.000000</td>\n",
       "    </tr>\n",
       "    <tr>\n",
       "      <th>mean</th>\n",
       "      <td>38.581647</td>\n",
       "      <td>1.897784e+05</td>\n",
       "      <td>10.080679</td>\n",
       "      <td>1077.648844</td>\n",
       "      <td>87.303830</td>\n",
       "      <td>40.437456</td>\n",
       "    </tr>\n",
       "    <tr>\n",
       "      <th>std</th>\n",
       "      <td>13.640433</td>\n",
       "      <td>1.055500e+05</td>\n",
       "      <td>2.572720</td>\n",
       "      <td>7385.292085</td>\n",
       "      <td>402.960219</td>\n",
       "      <td>12.347429</td>\n",
       "    </tr>\n",
       "    <tr>\n",
       "      <th>min</th>\n",
       "      <td>17.000000</td>\n",
       "      <td>1.228500e+04</td>\n",
       "      <td>1.000000</td>\n",
       "      <td>0.000000</td>\n",
       "      <td>0.000000</td>\n",
       "      <td>1.000000</td>\n",
       "    </tr>\n",
       "    <tr>\n",
       "      <th>25%</th>\n",
       "      <td>28.000000</td>\n",
       "      <td>1.178270e+05</td>\n",
       "      <td>9.000000</td>\n",
       "      <td>0.000000</td>\n",
       "      <td>0.000000</td>\n",
       "      <td>40.000000</td>\n",
       "    </tr>\n",
       "    <tr>\n",
       "      <th>50%</th>\n",
       "      <td>37.000000</td>\n",
       "      <td>1.783560e+05</td>\n",
       "      <td>10.000000</td>\n",
       "      <td>0.000000</td>\n",
       "      <td>0.000000</td>\n",
       "      <td>40.000000</td>\n",
       "    </tr>\n",
       "    <tr>\n",
       "      <th>75%</th>\n",
       "      <td>48.000000</td>\n",
       "      <td>2.370510e+05</td>\n",
       "      <td>12.000000</td>\n",
       "      <td>0.000000</td>\n",
       "      <td>0.000000</td>\n",
       "      <td>45.000000</td>\n",
       "    </tr>\n",
       "    <tr>\n",
       "      <th>max</th>\n",
       "      <td>90.000000</td>\n",
       "      <td>1.484705e+06</td>\n",
       "      <td>16.000000</td>\n",
       "      <td>99999.000000</td>\n",
       "      <td>4356.000000</td>\n",
       "      <td>99.000000</td>\n",
       "    </tr>\n",
       "  </tbody>\n",
       "</table>\n",
       "</div>"
      ],
      "text/plain": [
       "                age        fnlwgt  education-num  capital-gain  capital-loss  \\\n",
       "count  32561.000000  3.256100e+04   32561.000000  32561.000000  32561.000000   \n",
       "mean      38.581647  1.897784e+05      10.080679   1077.648844     87.303830   \n",
       "std       13.640433  1.055500e+05       2.572720   7385.292085    402.960219   \n",
       "min       17.000000  1.228500e+04       1.000000      0.000000      0.000000   \n",
       "25%       28.000000  1.178270e+05       9.000000      0.000000      0.000000   \n",
       "50%       37.000000  1.783560e+05      10.000000      0.000000      0.000000   \n",
       "75%       48.000000  2.370510e+05      12.000000      0.000000      0.000000   \n",
       "max       90.000000  1.484705e+06      16.000000  99999.000000   4356.000000   \n",
       "\n",
       "       hours-per-week  \n",
       "count    32561.000000  \n",
       "mean        40.437456  \n",
       "std         12.347429  \n",
       "min          1.000000  \n",
       "25%         40.000000  \n",
       "50%         40.000000  \n",
       "75%         45.000000  \n",
       "max         99.000000  "
      ]
     },
     "execution_count": 6,
     "metadata": {},
     "output_type": "execute_result"
    }
   ],
   "source": [
    "Training_Data.describe()"
   ]
  },
  {
   "cell_type": "code",
   "execution_count": 7,
   "id": "ae9b4774",
   "metadata": {
    "execution": {
     "iopub.execute_input": "2022-05-09T14:31:23.660277Z",
     "iopub.status.busy": "2022-05-09T14:31:23.659755Z",
     "iopub.status.idle": "2022-05-09T14:31:23.666344Z",
     "shell.execute_reply": "2022-05-09T14:31:23.665460Z"
    },
    "papermill": {
     "duration": 0.074943,
     "end_time": "2022-05-09T14:31:23.668229",
     "exception": false,
     "start_time": "2022-05-09T14:31:23.593286",
     "status": "completed"
    },
    "tags": []
   },
   "outputs": [
    {
     "data": {
      "text/plain": [
       "age               float64\n",
       "workclass          object\n",
       "fnlwgt            float64\n",
       "education          object\n",
       "education-num     float64\n",
       "marital-status     object\n",
       "occupation         object\n",
       "relationship       object\n",
       "race               object\n",
       "sex                object\n",
       "capital-gain      float64\n",
       "capital-loss      float64\n",
       "hours-per-week    float64\n",
       "native-country     object\n",
       "class              object\n",
       "dtype: object"
      ]
     },
     "execution_count": 7,
     "metadata": {},
     "output_type": "execute_result"
    }
   ],
   "source": [
    "Training_Data.dtypes"
   ]
  },
  {
   "cell_type": "markdown",
   "id": "3701791c",
   "metadata": {
    "papermill": {
     "duration": 0.065284,
     "end_time": "2022-05-09T14:31:23.800072",
     "exception": false,
     "start_time": "2022-05-09T14:31:23.734788",
     "status": "completed"
    },
    "tags": []
   },
   "source": [
    "## Testing Data"
   ]
  },
  {
   "cell_type": "code",
   "execution_count": 8,
   "id": "7c1f150f",
   "metadata": {
    "execution": {
     "iopub.execute_input": "2022-05-09T14:31:23.934307Z",
     "iopub.status.busy": "2022-05-09T14:31:23.933846Z",
     "iopub.status.idle": "2022-05-09T14:31:23.964234Z",
     "shell.execute_reply": "2022-05-09T14:31:23.963630Z"
    },
    "papermill": {
     "duration": 0.100571,
     "end_time": "2022-05-09T14:31:23.966454",
     "exception": false,
     "start_time": "2022-05-09T14:31:23.865883",
     "status": "completed"
    },
    "tags": []
   },
   "outputs": [
    {
     "data": {
      "text/html": [
       "<div>\n",
       "<style scoped>\n",
       "    .dataframe tbody tr th:only-of-type {\n",
       "        vertical-align: middle;\n",
       "    }\n",
       "\n",
       "    .dataframe tbody tr th {\n",
       "        vertical-align: top;\n",
       "    }\n",
       "\n",
       "    .dataframe thead th {\n",
       "        text-align: right;\n",
       "    }\n",
       "</style>\n",
       "<table border=\"1\" class=\"dataframe\">\n",
       "  <thead>\n",
       "    <tr style=\"text-align: right;\">\n",
       "      <th></th>\n",
       "      <th>age</th>\n",
       "      <th>fnlwgt</th>\n",
       "      <th>education-num</th>\n",
       "      <th>capital-gain</th>\n",
       "      <th>capital-loss</th>\n",
       "      <th>hours-per-week</th>\n",
       "    </tr>\n",
       "  </thead>\n",
       "  <tbody>\n",
       "    <tr>\n",
       "      <th>count</th>\n",
       "      <td>16281.000000</td>\n",
       "      <td>1.628100e+04</td>\n",
       "      <td>16281.000000</td>\n",
       "      <td>16281.000000</td>\n",
       "      <td>16281.000000</td>\n",
       "      <td>16281.000000</td>\n",
       "    </tr>\n",
       "    <tr>\n",
       "      <th>mean</th>\n",
       "      <td>38.767459</td>\n",
       "      <td>1.894357e+05</td>\n",
       "      <td>10.072907</td>\n",
       "      <td>1081.905104</td>\n",
       "      <td>87.899269</td>\n",
       "      <td>40.392236</td>\n",
       "    </tr>\n",
       "    <tr>\n",
       "      <th>std</th>\n",
       "      <td>13.849187</td>\n",
       "      <td>1.057149e+05</td>\n",
       "      <td>2.567545</td>\n",
       "      <td>7583.935968</td>\n",
       "      <td>403.105286</td>\n",
       "      <td>12.479332</td>\n",
       "    </tr>\n",
       "    <tr>\n",
       "      <th>min</th>\n",
       "      <td>17.000000</td>\n",
       "      <td>1.349200e+04</td>\n",
       "      <td>1.000000</td>\n",
       "      <td>0.000000</td>\n",
       "      <td>0.000000</td>\n",
       "      <td>1.000000</td>\n",
       "    </tr>\n",
       "    <tr>\n",
       "      <th>25%</th>\n",
       "      <td>28.000000</td>\n",
       "      <td>1.167360e+05</td>\n",
       "      <td>9.000000</td>\n",
       "      <td>0.000000</td>\n",
       "      <td>0.000000</td>\n",
       "      <td>40.000000</td>\n",
       "    </tr>\n",
       "    <tr>\n",
       "      <th>50%</th>\n",
       "      <td>37.000000</td>\n",
       "      <td>1.778310e+05</td>\n",
       "      <td>10.000000</td>\n",
       "      <td>0.000000</td>\n",
       "      <td>0.000000</td>\n",
       "      <td>40.000000</td>\n",
       "    </tr>\n",
       "    <tr>\n",
       "      <th>75%</th>\n",
       "      <td>48.000000</td>\n",
       "      <td>2.383840e+05</td>\n",
       "      <td>12.000000</td>\n",
       "      <td>0.000000</td>\n",
       "      <td>0.000000</td>\n",
       "      <td>45.000000</td>\n",
       "    </tr>\n",
       "    <tr>\n",
       "      <th>max</th>\n",
       "      <td>90.000000</td>\n",
       "      <td>1.490400e+06</td>\n",
       "      <td>16.000000</td>\n",
       "      <td>99999.000000</td>\n",
       "      <td>3770.000000</td>\n",
       "      <td>99.000000</td>\n",
       "    </tr>\n",
       "  </tbody>\n",
       "</table>\n",
       "</div>"
      ],
      "text/plain": [
       "                age        fnlwgt  education-num  capital-gain  capital-loss  \\\n",
       "count  16281.000000  1.628100e+04   16281.000000  16281.000000  16281.000000   \n",
       "mean      38.767459  1.894357e+05      10.072907   1081.905104     87.899269   \n",
       "std       13.849187  1.057149e+05       2.567545   7583.935968    403.105286   \n",
       "min       17.000000  1.349200e+04       1.000000      0.000000      0.000000   \n",
       "25%       28.000000  1.167360e+05       9.000000      0.000000      0.000000   \n",
       "50%       37.000000  1.778310e+05      10.000000      0.000000      0.000000   \n",
       "75%       48.000000  2.383840e+05      12.000000      0.000000      0.000000   \n",
       "max       90.000000  1.490400e+06      16.000000  99999.000000   3770.000000   \n",
       "\n",
       "       hours-per-week  \n",
       "count    16281.000000  \n",
       "mean        40.392236  \n",
       "std         12.479332  \n",
       "min          1.000000  \n",
       "25%         40.000000  \n",
       "50%         40.000000  \n",
       "75%         45.000000  \n",
       "max         99.000000  "
      ]
     },
     "execution_count": 8,
     "metadata": {},
     "output_type": "execute_result"
    }
   ],
   "source": [
    "Testing_Data.describe()"
   ]
  },
  {
   "cell_type": "code",
   "execution_count": 9,
   "id": "ba873a51",
   "metadata": {
    "execution": {
     "iopub.execute_input": "2022-05-09T14:31:24.104365Z",
     "iopub.status.busy": "2022-05-09T14:31:24.103907Z",
     "iopub.status.idle": "2022-05-09T14:31:24.109977Z",
     "shell.execute_reply": "2022-05-09T14:31:24.109430Z"
    },
    "papermill": {
     "duration": 0.076381,
     "end_time": "2022-05-09T14:31:24.111828",
     "exception": false,
     "start_time": "2022-05-09T14:31:24.035447",
     "status": "completed"
    },
    "tags": []
   },
   "outputs": [
    {
     "data": {
      "text/plain": [
       "age               float64\n",
       "workclass          object\n",
       "fnlwgt            float64\n",
       "education          object\n",
       "education-num     float64\n",
       "marital-status     object\n",
       "occupation         object\n",
       "relationship       object\n",
       "race               object\n",
       "sex                object\n",
       "capital-gain      float64\n",
       "capital-loss      float64\n",
       "hours-per-week    float64\n",
       "native-country     object\n",
       "class              object\n",
       "dtype: object"
      ]
     },
     "execution_count": 9,
     "metadata": {},
     "output_type": "execute_result"
    }
   ],
   "source": [
    "Testing_Data.dtypes"
   ]
  },
  {
   "cell_type": "markdown",
   "id": "6997777a",
   "metadata": {
    "papermill": {
     "duration": 0.066463,
     "end_time": "2022-05-09T14:31:24.245375",
     "exception": false,
     "start_time": "2022-05-09T14:31:24.178912",
     "status": "completed"
    },
    "tags": []
   },
   "source": [
    "## Label counts in Training and Testing datasets"
   ]
  },
  {
   "cell_type": "code",
   "execution_count": 10,
   "id": "e14f2608",
   "metadata": {
    "execution": {
     "iopub.execute_input": "2022-05-09T14:31:24.382702Z",
     "iopub.status.busy": "2022-05-09T14:31:24.382124Z",
     "iopub.status.idle": "2022-05-09T14:31:24.443849Z",
     "shell.execute_reply": "2022-05-09T14:31:24.441310Z"
    },
    "papermill": {
     "duration": 0.133959,
     "end_time": "2022-05-09T14:31:24.446382",
     "exception": false,
     "start_time": "2022-05-09T14:31:24.312423",
     "status": "completed"
    },
    "tags": []
   },
   "outputs": [
    {
     "name": "stdout",
     "output_type": "stream",
     "text": [
      "Attribute name: workclass\n",
      "-------------------\n",
      " Private             22696\n",
      " Self-emp-not-inc     2541\n",
      " Local-gov            2093\n",
      " ?                    1836\n",
      " State-gov            1298\n",
      " Self-emp-inc         1116\n",
      " Federal-gov           960\n",
      " Without-pay            14\n",
      " Never-worked            7\n",
      "Name: workclass, dtype: int64\n",
      "-------------------\n",
      "Attribute name: education\n",
      "-------------------\n",
      " HS-grad         10501\n",
      " Some-college     7291\n",
      " Bachelors        5355\n",
      " Masters          1723\n",
      " Assoc-voc        1382\n",
      " 11th             1175\n",
      " Assoc-acdm       1067\n",
      " 10th              933\n",
      " 7th-8th           646\n",
      " Prof-school       576\n",
      " 9th               514\n",
      " 12th              433\n",
      " Doctorate         413\n",
      " 5th-6th           333\n",
      " 1st-4th           168\n",
      " Preschool          51\n",
      "Name: education, dtype: int64\n",
      "-------------------\n",
      "Attribute name: marital-status\n",
      "-------------------\n",
      " Married-civ-spouse       14976\n",
      " Never-married            10683\n",
      " Divorced                  4443\n",
      " Separated                 1025\n",
      " Widowed                    993\n",
      " Married-spouse-absent      418\n",
      " Married-AF-spouse           23\n",
      "Name: marital-status, dtype: int64\n",
      "-------------------\n",
      "Attribute name: occupation\n",
      "-------------------\n",
      " Prof-specialty       4140\n",
      " Craft-repair         4099\n",
      " Exec-managerial      4066\n",
      " Adm-clerical         3770\n",
      " Sales                3650\n",
      " Other-service        3295\n",
      " Machine-op-inspct    2002\n",
      " ?                    1843\n",
      " Transport-moving     1597\n",
      " Handlers-cleaners    1370\n",
      " Farming-fishing       994\n",
      " Tech-support          928\n",
      " Protective-serv       649\n",
      " Priv-house-serv       149\n",
      " Armed-Forces            9\n",
      "Name: occupation, dtype: int64\n",
      "-------------------\n",
      "Attribute name: relationship\n",
      "-------------------\n",
      " Husband           13193\n",
      " Not-in-family      8305\n",
      " Own-child          5068\n",
      " Unmarried          3446\n",
      " Wife               1568\n",
      " Other-relative      981\n",
      "Name: relationship, dtype: int64\n",
      "-------------------\n",
      "Attribute name: race\n",
      "-------------------\n",
      " White                 27816\n",
      " Black                  3124\n",
      " Asian-Pac-Islander     1039\n",
      " Amer-Indian-Eskimo      311\n",
      " Other                   271\n",
      "Name: race, dtype: int64\n",
      "-------------------\n",
      "Attribute name: sex\n",
      "-------------------\n",
      " Male      21790\n",
      " Female    10771\n",
      "Name: sex, dtype: int64\n",
      "-------------------\n",
      "Attribute name: native-country\n",
      "-------------------\n",
      " United-States                 29170\n",
      " Mexico                          643\n",
      " ?                               583\n",
      " Philippines                     198\n",
      " Germany                         137\n",
      " Canada                          121\n",
      " Puerto-Rico                     114\n",
      " El-Salvador                     106\n",
      " India                           100\n",
      " Cuba                             95\n",
      " England                          90\n",
      " Jamaica                          81\n",
      " South                            80\n",
      " China                            75\n",
      " Italy                            73\n",
      " Dominican-Republic               70\n",
      " Vietnam                          67\n",
      " Guatemala                        64\n",
      " Japan                            62\n",
      " Poland                           60\n",
      " Columbia                         59\n",
      " Taiwan                           51\n",
      " Haiti                            44\n",
      " Iran                             43\n",
      " Portugal                         37\n",
      " Nicaragua                        34\n",
      " Peru                             31\n",
      " France                           29\n",
      " Greece                           29\n",
      " Ecuador                          28\n",
      " Ireland                          24\n",
      " Hong                             20\n",
      " Cambodia                         19\n",
      " Trinadad&Tobago                  19\n",
      " Laos                             18\n",
      " Thailand                         18\n",
      " Yugoslavia                       16\n",
      " Outlying-US(Guam-USVI-etc)       14\n",
      " Honduras                         13\n",
      " Hungary                          13\n",
      " Scotland                         12\n",
      " Holand-Netherlands                1\n",
      "Name: native-country, dtype: int64\n",
      "-------------------\n",
      "Attribute name: class\n",
      "-------------------\n",
      " <=50K    24720\n",
      " >50K      7841\n",
      "Name: class, dtype: int64\n",
      "-------------------\n"
     ]
    }
   ],
   "source": [
    "for col in Training_Data.columns:\n",
    "  if Training_Data[col].dtype == \"object\":\n",
    "    print('Attribute name:',col)\n",
    "    print('-------------------')\n",
    "    print(Training_Data[col].value_counts())\n",
    "    print('-------------------')\n",
    "\n"
   ]
  },
  {
   "cell_type": "code",
   "execution_count": 11,
   "id": "8bca99e9",
   "metadata": {
    "execution": {
     "iopub.execute_input": "2022-05-09T14:31:24.586919Z",
     "iopub.status.busy": "2022-05-09T14:31:24.586654Z",
     "iopub.status.idle": "2022-05-09T14:31:24.649221Z",
     "shell.execute_reply": "2022-05-09T14:31:24.646849Z"
    },
    "papermill": {
     "duration": 0.135339,
     "end_time": "2022-05-09T14:31:24.651990",
     "exception": false,
     "start_time": "2022-05-09T14:31:24.516651",
     "status": "completed"
    },
    "tags": []
   },
   "outputs": [
    {
     "name": "stdout",
     "output_type": "stream",
     "text": [
      "Attribute name: workclass\n",
      "-------------------\n",
      " Private             22696\n",
      " Self-emp-not-inc     2541\n",
      " Local-gov            2093\n",
      " ?                    1836\n",
      " State-gov            1298\n",
      " Self-emp-inc         1116\n",
      " Federal-gov           960\n",
      " Without-pay            14\n",
      " Never-worked            7\n",
      "Name: workclass, dtype: int64\n",
      "-------------------\n",
      "Attribute name: education\n",
      "-------------------\n",
      " HS-grad         10501\n",
      " Some-college     7291\n",
      " Bachelors        5355\n",
      " Masters          1723\n",
      " Assoc-voc        1382\n",
      " 11th             1175\n",
      " Assoc-acdm       1067\n",
      " 10th              933\n",
      " 7th-8th           646\n",
      " Prof-school       576\n",
      " 9th               514\n",
      " 12th              433\n",
      " Doctorate         413\n",
      " 5th-6th           333\n",
      " 1st-4th           168\n",
      " Preschool          51\n",
      "Name: education, dtype: int64\n",
      "-------------------\n",
      "Attribute name: marital-status\n",
      "-------------------\n",
      " Married-civ-spouse       14976\n",
      " Never-married            10683\n",
      " Divorced                  4443\n",
      " Separated                 1025\n",
      " Widowed                    993\n",
      " Married-spouse-absent      418\n",
      " Married-AF-spouse           23\n",
      "Name: marital-status, dtype: int64\n",
      "-------------------\n",
      "Attribute name: occupation\n",
      "-------------------\n",
      " Prof-specialty       4140\n",
      " Craft-repair         4099\n",
      " Exec-managerial      4066\n",
      " Adm-clerical         3770\n",
      " Sales                3650\n",
      " Other-service        3295\n",
      " Machine-op-inspct    2002\n",
      " ?                    1843\n",
      " Transport-moving     1597\n",
      " Handlers-cleaners    1370\n",
      " Farming-fishing       994\n",
      " Tech-support          928\n",
      " Protective-serv       649\n",
      " Priv-house-serv       149\n",
      " Armed-Forces            9\n",
      "Name: occupation, dtype: int64\n",
      "-------------------\n",
      "Attribute name: relationship\n",
      "-------------------\n",
      " Husband           13193\n",
      " Not-in-family      8305\n",
      " Own-child          5068\n",
      " Unmarried          3446\n",
      " Wife               1568\n",
      " Other-relative      981\n",
      "Name: relationship, dtype: int64\n",
      "-------------------\n",
      "Attribute name: race\n",
      "-------------------\n",
      " White                 27816\n",
      " Black                  3124\n",
      " Asian-Pac-Islander     1039\n",
      " Amer-Indian-Eskimo      311\n",
      " Other                   271\n",
      "Name: race, dtype: int64\n",
      "-------------------\n",
      "Attribute name: sex\n",
      "-------------------\n",
      " Male      21790\n",
      " Female    10771\n",
      "Name: sex, dtype: int64\n",
      "-------------------\n",
      "Attribute name: native-country\n",
      "-------------------\n",
      " United-States                 29170\n",
      " Mexico                          643\n",
      " ?                               583\n",
      " Philippines                     198\n",
      " Germany                         137\n",
      " Canada                          121\n",
      " Puerto-Rico                     114\n",
      " El-Salvador                     106\n",
      " India                           100\n",
      " Cuba                             95\n",
      " England                          90\n",
      " Jamaica                          81\n",
      " South                            80\n",
      " China                            75\n",
      " Italy                            73\n",
      " Dominican-Republic               70\n",
      " Vietnam                          67\n",
      " Guatemala                        64\n",
      " Japan                            62\n",
      " Poland                           60\n",
      " Columbia                         59\n",
      " Taiwan                           51\n",
      " Haiti                            44\n",
      " Iran                             43\n",
      " Portugal                         37\n",
      " Nicaragua                        34\n",
      " Peru                             31\n",
      " France                           29\n",
      " Greece                           29\n",
      " Ecuador                          28\n",
      " Ireland                          24\n",
      " Hong                             20\n",
      " Cambodia                         19\n",
      " Trinadad&Tobago                  19\n",
      " Laos                             18\n",
      " Thailand                         18\n",
      " Yugoslavia                       16\n",
      " Outlying-US(Guam-USVI-etc)       14\n",
      " Honduras                         13\n",
      " Hungary                          13\n",
      " Scotland                         12\n",
      " Holand-Netherlands                1\n",
      "Name: native-country, dtype: int64\n",
      "-------------------\n",
      "Attribute name: class\n",
      "-------------------\n",
      " <=50K    24720\n",
      " >50K      7841\n",
      "Name: class, dtype: int64\n",
      "-------------------\n"
     ]
    }
   ],
   "source": [
    "for col in Testing_Data.columns:\n",
    "  if Testing_Data[col].dtype == \"object\":\n",
    "    print('Attribute name:',col)\n",
    "    print('-------------------')\n",
    "    print(Training_Data[col].value_counts())\n",
    "    print('-------------------')\n"
   ]
  },
  {
   "cell_type": "markdown",
   "id": "49f4e102",
   "metadata": {
    "papermill": {
     "duration": 0.071187,
     "end_time": "2022-05-09T14:31:24.794191",
     "exception": false,
     "start_time": "2022-05-09T14:31:24.723004",
     "status": "completed"
    },
    "tags": []
   },
   "source": [
    "# Data cleaning"
   ]
  },
  {
   "cell_type": "code",
   "execution_count": 12,
   "id": "f9d2ca42",
   "metadata": {
    "execution": {
     "iopub.execute_input": "2022-05-09T14:31:24.939352Z",
     "iopub.status.busy": "2022-05-09T14:31:24.938875Z",
     "iopub.status.idle": "2022-05-09T14:31:24.943718Z",
     "shell.execute_reply": "2022-05-09T14:31:24.943048Z"
    },
    "papermill": {
     "duration": 0.07926,
     "end_time": "2022-05-09T14:31:24.945803",
     "exception": false,
     "start_time": "2022-05-09T14:31:24.866543",
     "status": "completed"
    },
    "tags": []
   },
   "outputs": [],
   "source": [
    "def RemoveWhiteSpaces(df):\n",
    "    for col in df.columns:\n",
    "        if(df[col].dtype == \"object\"):\n",
    "            df[col] = df[col].str.strip()\n",
    "    df['class'] = df['class'].str.strip()\n",
    "    return df"
   ]
  },
  {
   "cell_type": "code",
   "execution_count": 13,
   "id": "9034de40",
   "metadata": {
    "execution": {
     "iopub.execute_input": "2022-05-09T14:31:25.090680Z",
     "iopub.status.busy": "2022-05-09T14:31:25.090194Z",
     "iopub.status.idle": "2022-05-09T14:31:25.095300Z",
     "shell.execute_reply": "2022-05-09T14:31:25.094674Z"
    },
    "papermill": {
     "duration": 0.079742,
     "end_time": "2022-05-09T14:31:25.097165",
     "exception": false,
     "start_time": "2022-05-09T14:31:25.017423",
     "status": "completed"
    },
    "tags": []
   },
   "outputs": [],
   "source": [
    "def RemoveNulls(df_):\n",
    "    #first replace all empty cells with NaN\n",
    "    for col in df_.columns:\n",
    "        df_[[col]] = df_[[col]].replace(' ?',np.NaN)\n",
    "        df_[[col]] = df_[[col]].replace('?',np.NaN)\n",
    "\n",
    "    #drop all rows that has null values\n",
    "    df_ = df_.dropna()\n",
    "    \n",
    "    return df_"
   ]
  },
  {
   "cell_type": "code",
   "execution_count": 14,
   "id": "8bdabc4f",
   "metadata": {
    "execution": {
     "iopub.execute_input": "2022-05-09T14:31:25.236144Z",
     "iopub.status.busy": "2022-05-09T14:31:25.235666Z",
     "iopub.status.idle": "2022-05-09T14:31:25.247321Z",
     "shell.execute_reply": "2022-05-09T14:31:25.246681Z"
    },
    "papermill": {
     "duration": 0.083419,
     "end_time": "2022-05-09T14:31:25.249456",
     "exception": false,
     "start_time": "2022-05-09T14:31:25.166037",
     "status": "completed"
    },
    "tags": []
   },
   "outputs": [],
   "source": [
    "# Normalise and standardize\n",
    "def NormStd(dataset):\n",
    "    from sklearn.preprocessing import StandardScaler, OrdinalEncoder\n",
    "\n",
    "    # Create a dataframe with float64 data type\n",
    "    colname= []\n",
    "    for col in dataset.columns:\n",
    "      if dataset[col].dtype == \"float64\":\n",
    "          colname.append(col)\n",
    "\n",
    "    # Create copies of dataset for data preparation purposes\n",
    "    df_copy = dataset.copy(deep = True)\n",
    "    df_fe = dataset.copy()\n",
    "\n",
    "    # Create dataframe for categorical features \n",
    "    df_fe.drop('class',axis='columns', inplace=True)\n",
    "    df_fe.drop(colname,axis='columns', inplace=True)\n",
    "\n",
    "    # create dataframe for target class\n",
    "    df_cl = dataset.copy()\n",
    "    df_cl.drop(df_copy.iloc[:,:-1],axis='columns', inplace=True)\n",
    "\n",
    "\n",
    "    # create a scaler object\n",
    "    std_scaler = StandardScaler()\n",
    "\n",
    "    # Normalize numeric attributes and assign it into a new dataframe\n",
    "    df_norm = pd.DataFrame(std_scaler.fit_transform(df_copy[colname]), columns=colname)\n",
    "    \n",
    "    ord_enc = OrdinalEncoder()\n",
    "\n",
    "    # enconde categorical features into numerical features\n",
    "    for col in df_fe.columns[:]:\n",
    "      if df_fe[col].dtype == \"object\":\n",
    "        df_fe[col] = ord_enc.fit_transform(df_fe[[col]])\n",
    "        \n",
    "    df_norm.insert(0, 'id', range(0, 0 + len(df_norm)))\n",
    "    df_fe.insert(0, 'id', range(0, 0 + len(df_fe)))\n",
    "    df_cl.insert(0, 'id', range(0, 0 + len(df_cl)))\n",
    "\n",
    "\n",
    "    df_feature = pd.merge(df_norm,df_fe, on=[\"id\"])\n",
    "    df_final = pd.merge(df_feature,df_cl, on=[\"id\"])\n",
    "\n",
    "    # Drop id column from the merged dataset\n",
    "    df_final.drop('id',axis='columns', inplace=True)\n",
    "\n",
    "    # Show the the tope 5 obersrvation of the dataset\n",
    "    df_final.head(5)\n",
    "    \n",
    "    return df_final"
   ]
  },
  {
   "cell_type": "markdown",
   "id": "b84ecbf0",
   "metadata": {
    "papermill": {
     "duration": 0.068516,
     "end_time": "2022-05-09T14:31:25.389927",
     "exception": false,
     "start_time": "2022-05-09T14:31:25.321411",
     "status": "completed"
    },
    "tags": []
   },
   "source": [
    "## Training Data"
   ]
  },
  {
   "cell_type": "code",
   "execution_count": 15,
   "id": "f6bf35fa",
   "metadata": {
    "execution": {
     "iopub.execute_input": "2022-05-09T14:31:25.529451Z",
     "iopub.status.busy": "2022-05-09T14:31:25.528642Z",
     "iopub.status.idle": "2022-05-09T14:31:26.981623Z",
     "shell.execute_reply": "2022-05-09T14:31:26.980735Z"
    },
    "papermill": {
     "duration": 1.524949,
     "end_time": "2022-05-09T14:31:26.983987",
     "exception": false,
     "start_time": "2022-05-09T14:31:25.459038",
     "status": "completed"
    },
    "tags": []
   },
   "outputs": [],
   "source": [
    "Training_Data = RemoveWhiteSpaces(Training_Data)\n",
    "Training_Data = RemoveNulls(Training_Data)\n",
    "Training_Data = NormStd(Training_Data)"
   ]
  },
  {
   "cell_type": "code",
   "execution_count": 16,
   "id": "9fd7c31b",
   "metadata": {
    "execution": {
     "iopub.execute_input": "2022-05-09T14:31:27.123752Z",
     "iopub.status.busy": "2022-05-09T14:31:27.123429Z",
     "iopub.status.idle": "2022-05-09T14:31:27.189964Z",
     "shell.execute_reply": "2022-05-09T14:31:27.189120Z"
    },
    "papermill": {
     "duration": 0.139128,
     "end_time": "2022-05-09T14:31:27.192014",
     "exception": false,
     "start_time": "2022-05-09T14:31:27.052886",
     "status": "completed"
    },
    "tags": []
   },
   "outputs": [
    {
     "data": {
      "text/html": [
       "<div>\n",
       "<style scoped>\n",
       "    .dataframe tbody tr th:only-of-type {\n",
       "        vertical-align: middle;\n",
       "    }\n",
       "\n",
       "    .dataframe tbody tr th {\n",
       "        vertical-align: top;\n",
       "    }\n",
       "\n",
       "    .dataframe thead th {\n",
       "        text-align: right;\n",
       "    }\n",
       "</style>\n",
       "<table border=\"1\" class=\"dataframe\">\n",
       "  <thead>\n",
       "    <tr style=\"text-align: right;\">\n",
       "      <th></th>\n",
       "      <th>age</th>\n",
       "      <th>fnlwgt</th>\n",
       "      <th>education-num</th>\n",
       "      <th>capital-gain</th>\n",
       "      <th>capital-loss</th>\n",
       "      <th>hours-per-week</th>\n",
       "      <th>workclass</th>\n",
       "      <th>education</th>\n",
       "      <th>marital-status</th>\n",
       "      <th>occupation</th>\n",
       "      <th>relationship</th>\n",
       "      <th>race</th>\n",
       "      <th>sex</th>\n",
       "      <th>native-country</th>\n",
       "    </tr>\n",
       "  </thead>\n",
       "  <tbody>\n",
       "    <tr>\n",
       "      <th>count</th>\n",
       "      <td>3.016200e+04</td>\n",
       "      <td>3.016200e+04</td>\n",
       "      <td>3.016200e+04</td>\n",
       "      <td>3.016200e+04</td>\n",
       "      <td>3.016200e+04</td>\n",
       "      <td>3.016200e+04</td>\n",
       "      <td>30162.000000</td>\n",
       "      <td>30162.000000</td>\n",
       "      <td>30162.000000</td>\n",
       "      <td>30162.000000</td>\n",
       "      <td>30162.000000</td>\n",
       "      <td>30162.000000</td>\n",
       "      <td>30162.000000</td>\n",
       "      <td>30162.000000</td>\n",
       "    </tr>\n",
       "    <tr>\n",
       "      <th>mean</th>\n",
       "      <td>1.535952e-16</td>\n",
       "      <td>1.684365e-17</td>\n",
       "      <td>-3.053058e-16</td>\n",
       "      <td>-2.720897e-17</td>\n",
       "      <td>7.703318e-17</td>\n",
       "      <td>-2.833973e-16</td>\n",
       "      <td>2.199324</td>\n",
       "      <td>10.333764</td>\n",
       "      <td>2.580134</td>\n",
       "      <td>5.959850</td>\n",
       "      <td>1.418341</td>\n",
       "      <td>3.678602</td>\n",
       "      <td>0.675685</td>\n",
       "      <td>36.382567</td>\n",
       "    </tr>\n",
       "    <tr>\n",
       "      <th>std</th>\n",
       "      <td>1.000017e+00</td>\n",
       "      <td>1.000017e+00</td>\n",
       "      <td>1.000017e+00</td>\n",
       "      <td>1.000017e+00</td>\n",
       "      <td>1.000017e+00</td>\n",
       "      <td>1.000017e+00</td>\n",
       "      <td>0.953925</td>\n",
       "      <td>3.812292</td>\n",
       "      <td>1.498016</td>\n",
       "      <td>4.029566</td>\n",
       "      <td>1.601338</td>\n",
       "      <td>0.834709</td>\n",
       "      <td>0.468126</td>\n",
       "      <td>6.105372</td>\n",
       "    </tr>\n",
       "    <tr>\n",
       "      <th>min</th>\n",
       "      <td>-1.632189e+00</td>\n",
       "      <td>-1.666094e+00</td>\n",
       "      <td>-3.577051e+00</td>\n",
       "      <td>-1.474446e-01</td>\n",
       "      <td>-2.185860e-01</td>\n",
       "      <td>-3.333218e+00</td>\n",
       "      <td>0.000000</td>\n",
       "      <td>0.000000</td>\n",
       "      <td>0.000000</td>\n",
       "      <td>0.000000</td>\n",
       "      <td>0.000000</td>\n",
       "      <td>0.000000</td>\n",
       "      <td>0.000000</td>\n",
       "      <td>0.000000</td>\n",
       "    </tr>\n",
       "    <tr>\n",
       "      <th>25%</th>\n",
       "      <td>-7.946967e-01</td>\n",
       "      <td>-6.830644e-01</td>\n",
       "      <td>-4.397382e-01</td>\n",
       "      <td>-1.474446e-01</td>\n",
       "      <td>-2.185860e-01</td>\n",
       "      <td>-7.773411e-02</td>\n",
       "      <td>2.000000</td>\n",
       "      <td>9.000000</td>\n",
       "      <td>2.000000</td>\n",
       "      <td>2.000000</td>\n",
       "      <td>0.000000</td>\n",
       "      <td>4.000000</td>\n",
       "      <td>0.000000</td>\n",
       "      <td>38.000000</td>\n",
       "    </tr>\n",
       "    <tr>\n",
       "      <th>50%</th>\n",
       "      <td>-1.094756e-01</td>\n",
       "      <td>-1.076072e-01</td>\n",
       "      <td>-4.757405e-02</td>\n",
       "      <td>-1.474446e-01</td>\n",
       "      <td>-2.185860e-01</td>\n",
       "      <td>-7.773411e-02</td>\n",
       "      <td>2.000000</td>\n",
       "      <td>11.000000</td>\n",
       "      <td>2.000000</td>\n",
       "      <td>6.000000</td>\n",
       "      <td>1.000000</td>\n",
       "      <td>4.000000</td>\n",
       "      <td>1.000000</td>\n",
       "      <td>38.000000</td>\n",
       "    </tr>\n",
       "    <tr>\n",
       "      <th>75%</th>\n",
       "      <td>6.518811e-01</td>\n",
       "      <td>4.527602e-01</td>\n",
       "      <td>1.128918e+00</td>\n",
       "      <td>-1.474446e-01</td>\n",
       "      <td>-2.185860e-01</td>\n",
       "      <td>3.396356e-01</td>\n",
       "      <td>2.000000</td>\n",
       "      <td>12.000000</td>\n",
       "      <td>4.000000</td>\n",
       "      <td>9.000000</td>\n",
       "      <td>3.000000</td>\n",
       "      <td>4.000000</td>\n",
       "      <td>1.000000</td>\n",
       "      <td>38.000000</td>\n",
       "    </tr>\n",
       "    <tr>\n",
       "      <th>max</th>\n",
       "      <td>3.925715e+00</td>\n",
       "      <td>1.225647e+01</td>\n",
       "      <td>2.305411e+00</td>\n",
       "      <td>1.335458e+01</td>\n",
       "      <td>1.055581e+01</td>\n",
       "      <td>4.847229e+00</td>\n",
       "      <td>6.000000</td>\n",
       "      <td>15.000000</td>\n",
       "      <td>6.000000</td>\n",
       "      <td>13.000000</td>\n",
       "      <td>5.000000</td>\n",
       "      <td>4.000000</td>\n",
       "      <td>1.000000</td>\n",
       "      <td>40.000000</td>\n",
       "    </tr>\n",
       "  </tbody>\n",
       "</table>\n",
       "</div>"
      ],
      "text/plain": [
       "                age        fnlwgt  education-num  capital-gain  capital-loss  \\\n",
       "count  3.016200e+04  3.016200e+04   3.016200e+04  3.016200e+04  3.016200e+04   \n",
       "mean   1.535952e-16  1.684365e-17  -3.053058e-16 -2.720897e-17  7.703318e-17   \n",
       "std    1.000017e+00  1.000017e+00   1.000017e+00  1.000017e+00  1.000017e+00   \n",
       "min   -1.632189e+00 -1.666094e+00  -3.577051e+00 -1.474446e-01 -2.185860e-01   \n",
       "25%   -7.946967e-01 -6.830644e-01  -4.397382e-01 -1.474446e-01 -2.185860e-01   \n",
       "50%   -1.094756e-01 -1.076072e-01  -4.757405e-02 -1.474446e-01 -2.185860e-01   \n",
       "75%    6.518811e-01  4.527602e-01   1.128918e+00 -1.474446e-01 -2.185860e-01   \n",
       "max    3.925715e+00  1.225647e+01   2.305411e+00  1.335458e+01  1.055581e+01   \n",
       "\n",
       "       hours-per-week     workclass     education  marital-status  \\\n",
       "count    3.016200e+04  30162.000000  30162.000000    30162.000000   \n",
       "mean    -2.833973e-16      2.199324     10.333764        2.580134   \n",
       "std      1.000017e+00      0.953925      3.812292        1.498016   \n",
       "min     -3.333218e+00      0.000000      0.000000        0.000000   \n",
       "25%     -7.773411e-02      2.000000      9.000000        2.000000   \n",
       "50%     -7.773411e-02      2.000000     11.000000        2.000000   \n",
       "75%      3.396356e-01      2.000000     12.000000        4.000000   \n",
       "max      4.847229e+00      6.000000     15.000000        6.000000   \n",
       "\n",
       "         occupation  relationship          race           sex  native-country  \n",
       "count  30162.000000  30162.000000  30162.000000  30162.000000    30162.000000  \n",
       "mean       5.959850      1.418341      3.678602      0.675685       36.382567  \n",
       "std        4.029566      1.601338      0.834709      0.468126        6.105372  \n",
       "min        0.000000      0.000000      0.000000      0.000000        0.000000  \n",
       "25%        2.000000      0.000000      4.000000      0.000000       38.000000  \n",
       "50%        6.000000      1.000000      4.000000      1.000000       38.000000  \n",
       "75%        9.000000      3.000000      4.000000      1.000000       38.000000  \n",
       "max       13.000000      5.000000      4.000000      1.000000       40.000000  "
      ]
     },
     "execution_count": 16,
     "metadata": {},
     "output_type": "execute_result"
    }
   ],
   "source": [
    "Training_Data.describe()"
   ]
  },
  {
   "cell_type": "code",
   "execution_count": 17,
   "id": "20648c7b",
   "metadata": {
    "execution": {
     "iopub.execute_input": "2022-05-09T14:31:27.331703Z",
     "iopub.status.busy": "2022-05-09T14:31:27.331385Z",
     "iopub.status.idle": "2022-05-09T14:31:29.724659Z",
     "shell.execute_reply": "2022-05-09T14:31:29.723944Z"
    },
    "papermill": {
     "duration": 2.46447,
     "end_time": "2022-05-09T14:31:29.726479",
     "exception": false,
     "start_time": "2022-05-09T14:31:27.262009",
     "status": "completed"
    },
    "tags": []
   },
   "outputs": [
    {
     "data": {
      "image/png": "[encoded data removed]",
      "text/plain": [
       "<Figure size 1440x1440 with 16 Axes>"
      ]
     },
     "metadata": {
      "needs_background": "light"
     },
     "output_type": "display_data"
    }
   ],
   "source": [
    "p = Training_Data.hist(figsize = (20,20))"
   ]
  },
  {
   "cell_type": "markdown",
   "id": "3c8dff8c",
   "metadata": {
    "papermill": {
     "duration": 0.070822,
     "end_time": "2022-05-09T14:31:29.868605",
     "exception": false,
     "start_time": "2022-05-09T14:31:29.797783",
     "status": "completed"
    },
    "tags": []
   },
   "source": [
    "## Testing Dataset"
   ]
  },
  {
   "cell_type": "code",
   "execution_count": 18,
   "id": "6b0c959e",
   "metadata": {
    "execution": {
     "iopub.execute_input": "2022-05-09T14:31:30.014636Z",
     "iopub.status.busy": "2022-05-09T14:31:30.013783Z",
     "iopub.status.idle": "2022-05-09T14:31:30.035557Z",
     "shell.execute_reply": "2022-05-09T14:31:30.034756Z"
    },
    "papermill": {
     "duration": 0.09725,
     "end_time": "2022-05-09T14:31:30.038122",
     "exception": false,
     "start_time": "2022-05-09T14:31:29.940872",
     "status": "completed"
    },
    "tags": []
   },
   "outputs": [
    {
     "data": {
      "text/html": [
       "<div>\n",
       "<style scoped>\n",
       "    .dataframe tbody tr th:only-of-type {\n",
       "        vertical-align: middle;\n",
       "    }\n",
       "\n",
       "    .dataframe tbody tr th {\n",
       "        vertical-align: top;\n",
       "    }\n",
       "\n",
       "    .dataframe thead th {\n",
       "        text-align: right;\n",
       "    }\n",
       "</style>\n",
       "<table border=\"1\" class=\"dataframe\">\n",
       "  <thead>\n",
       "    <tr style=\"text-align: right;\">\n",
       "      <th></th>\n",
       "      <th>age</th>\n",
       "      <th>workclass</th>\n",
       "      <th>fnlwgt</th>\n",
       "      <th>education</th>\n",
       "      <th>education-num</th>\n",
       "      <th>marital-status</th>\n",
       "      <th>occupation</th>\n",
       "      <th>relationship</th>\n",
       "      <th>race</th>\n",
       "      <th>sex</th>\n",
       "      <th>capital-gain</th>\n",
       "      <th>capital-loss</th>\n",
       "      <th>hours-per-week</th>\n",
       "      <th>native-country</th>\n",
       "      <th>class</th>\n",
       "    </tr>\n",
       "  </thead>\n",
       "  <tbody>\n",
       "    <tr>\n",
       "      <th>0</th>\n",
       "      <td>25.0</td>\n",
       "      <td>Private</td>\n",
       "      <td>226802.0</td>\n",
       "      <td>11th</td>\n",
       "      <td>7.0</td>\n",
       "      <td>Never-married</td>\n",
       "      <td>Machine-op-inspct</td>\n",
       "      <td>Own-child</td>\n",
       "      <td>Black</td>\n",
       "      <td>Male</td>\n",
       "      <td>0.0</td>\n",
       "      <td>0.0</td>\n",
       "      <td>40.0</td>\n",
       "      <td>United-States</td>\n",
       "      <td>&lt;=50K.</td>\n",
       "    </tr>\n",
       "    <tr>\n",
       "      <th>1</th>\n",
       "      <td>38.0</td>\n",
       "      <td>Private</td>\n",
       "      <td>89814.0</td>\n",
       "      <td>HS-grad</td>\n",
       "      <td>9.0</td>\n",
       "      <td>Married-civ-spouse</td>\n",
       "      <td>Farming-fishing</td>\n",
       "      <td>Husband</td>\n",
       "      <td>White</td>\n",
       "      <td>Male</td>\n",
       "      <td>0.0</td>\n",
       "      <td>0.0</td>\n",
       "      <td>50.0</td>\n",
       "      <td>United-States</td>\n",
       "      <td>&lt;=50K.</td>\n",
       "    </tr>\n",
       "    <tr>\n",
       "      <th>2</th>\n",
       "      <td>28.0</td>\n",
       "      <td>Local-gov</td>\n",
       "      <td>336951.0</td>\n",
       "      <td>Assoc-acdm</td>\n",
       "      <td>12.0</td>\n",
       "      <td>Married-civ-spouse</td>\n",
       "      <td>Protective-serv</td>\n",
       "      <td>Husband</td>\n",
       "      <td>White</td>\n",
       "      <td>Male</td>\n",
       "      <td>0.0</td>\n",
       "      <td>0.0</td>\n",
       "      <td>40.0</td>\n",
       "      <td>United-States</td>\n",
       "      <td>&gt;50K.</td>\n",
       "    </tr>\n",
       "    <tr>\n",
       "      <th>3</th>\n",
       "      <td>44.0</td>\n",
       "      <td>Private</td>\n",
       "      <td>160323.0</td>\n",
       "      <td>Some-college</td>\n",
       "      <td>10.0</td>\n",
       "      <td>Married-civ-spouse</td>\n",
       "      <td>Machine-op-inspct</td>\n",
       "      <td>Husband</td>\n",
       "      <td>Black</td>\n",
       "      <td>Male</td>\n",
       "      <td>7688.0</td>\n",
       "      <td>0.0</td>\n",
       "      <td>40.0</td>\n",
       "      <td>United-States</td>\n",
       "      <td>&gt;50K.</td>\n",
       "    </tr>\n",
       "    <tr>\n",
       "      <th>4</th>\n",
       "      <td>18.0</td>\n",
       "      <td>?</td>\n",
       "      <td>103497.0</td>\n",
       "      <td>Some-college</td>\n",
       "      <td>10.0</td>\n",
       "      <td>Never-married</td>\n",
       "      <td>?</td>\n",
       "      <td>Own-child</td>\n",
       "      <td>White</td>\n",
       "      <td>Female</td>\n",
       "      <td>0.0</td>\n",
       "      <td>0.0</td>\n",
       "      <td>30.0</td>\n",
       "      <td>United-States</td>\n",
       "      <td>&lt;=50K.</td>\n",
       "    </tr>\n",
       "  </tbody>\n",
       "</table>\n",
       "</div>"
      ],
      "text/plain": [
       "    age   workclass    fnlwgt      education  education-num  \\\n",
       "0  25.0     Private  226802.0           11th            7.0   \n",
       "1  38.0     Private   89814.0        HS-grad            9.0   \n",
       "2  28.0   Local-gov  336951.0     Assoc-acdm           12.0   \n",
       "3  44.0     Private  160323.0   Some-college           10.0   \n",
       "4  18.0           ?  103497.0   Some-college           10.0   \n",
       "\n",
       "        marital-status          occupation relationship    race      sex  \\\n",
       "0        Never-married   Machine-op-inspct    Own-child   Black     Male   \n",
       "1   Married-civ-spouse     Farming-fishing      Husband   White     Male   \n",
       "2   Married-civ-spouse     Protective-serv      Husband   White     Male   \n",
       "3   Married-civ-spouse   Machine-op-inspct      Husband   Black     Male   \n",
       "4        Never-married                   ?    Own-child   White   Female   \n",
       "\n",
       "   capital-gain  capital-loss  hours-per-week  native-country    class  \n",
       "0           0.0           0.0            40.0   United-States   <=50K.  \n",
       "1           0.0           0.0            50.0   United-States   <=50K.  \n",
       "2           0.0           0.0            40.0   United-States    >50K.  \n",
       "3        7688.0           0.0            40.0   United-States    >50K.  \n",
       "4           0.0           0.0            30.0   United-States   <=50K.  "
      ]
     },
     "execution_count": 18,
     "metadata": {},
     "output_type": "execute_result"
    }
   ],
   "source": [
    "Testing_Data.head()"
   ]
  },
  {
   "cell_type": "code",
   "execution_count": 19,
   "id": "709883ab",
   "metadata": {
    "execution": {
     "iopub.execute_input": "2022-05-09T14:31:30.184116Z",
     "iopub.status.busy": "2022-05-09T14:31:30.183561Z",
     "iopub.status.idle": "2022-05-09T14:31:30.450501Z",
     "shell.execute_reply": "2022-05-09T14:31:30.449917Z"
    },
    "papermill": {
     "duration": 0.342662,
     "end_time": "2022-05-09T14:31:30.452647",
     "exception": false,
     "start_time": "2022-05-09T14:31:30.109985",
     "status": "completed"
    },
    "tags": []
   },
   "outputs": [],
   "source": [
    "Testing_Data = RemoveWhiteSpaces(Testing_Data)\n",
    "Testing_Data = RemoveNulls(Testing_Data)\n",
    "Testing_Data = NormStd(Testing_Data)"
   ]
  },
  {
   "cell_type": "code",
   "execution_count": 20,
   "id": "0b79cb41",
   "metadata": {
    "execution": {
     "iopub.execute_input": "2022-05-09T14:31:30.597647Z",
     "iopub.status.busy": "2022-05-09T14:31:30.597313Z",
     "iopub.status.idle": "2022-05-09T14:31:30.619240Z",
     "shell.execute_reply": "2022-05-09T14:31:30.618631Z"
    },
    "papermill": {
     "duration": 0.096468,
     "end_time": "2022-05-09T14:31:30.621145",
     "exception": false,
     "start_time": "2022-05-09T14:31:30.524677",
     "status": "completed"
    },
    "tags": []
   },
   "outputs": [
    {
     "data": {
      "text/html": [
       "<div>\n",
       "<style scoped>\n",
       "    .dataframe tbody tr th:only-of-type {\n",
       "        vertical-align: middle;\n",
       "    }\n",
       "\n",
       "    .dataframe tbody tr th {\n",
       "        vertical-align: top;\n",
       "    }\n",
       "\n",
       "    .dataframe thead th {\n",
       "        text-align: right;\n",
       "    }\n",
       "</style>\n",
       "<table border=\"1\" class=\"dataframe\">\n",
       "  <thead>\n",
       "    <tr style=\"text-align: right;\">\n",
       "      <th></th>\n",
       "      <th>age</th>\n",
       "      <th>fnlwgt</th>\n",
       "      <th>education-num</th>\n",
       "      <th>capital-gain</th>\n",
       "      <th>capital-loss</th>\n",
       "      <th>hours-per-week</th>\n",
       "      <th>workclass</th>\n",
       "      <th>education</th>\n",
       "      <th>marital-status</th>\n",
       "      <th>occupation</th>\n",
       "      <th>relationship</th>\n",
       "      <th>race</th>\n",
       "      <th>sex</th>\n",
       "      <th>native-country</th>\n",
       "      <th>class</th>\n",
       "    </tr>\n",
       "  </thead>\n",
       "  <tbody>\n",
       "    <tr>\n",
       "      <th>0</th>\n",
       "      <td>-1.029005</td>\n",
       "      <td>0.352098</td>\n",
       "      <td>-1.216563</td>\n",
       "      <td>-0.145438</td>\n",
       "      <td>-0.219169</td>\n",
       "      <td>-0.078889</td>\n",
       "      <td>2.0</td>\n",
       "      <td>1.0</td>\n",
       "      <td>4.0</td>\n",
       "      <td>6.0</td>\n",
       "      <td>3.0</td>\n",
       "      <td>2.0</td>\n",
       "      <td>1.0</td>\n",
       "      <td>37.0</td>\n",
       "      <td>&lt;=50K.</td>\n",
       "    </tr>\n",
       "    <tr>\n",
       "      <th>1</th>\n",
       "      <td>-0.057423</td>\n",
       "      <td>-0.944995</td>\n",
       "      <td>-0.434898</td>\n",
       "      <td>-0.145438</td>\n",
       "      <td>-0.219169</td>\n",
       "      <td>0.750131</td>\n",
       "      <td>2.0</td>\n",
       "      <td>11.0</td>\n",
       "      <td>2.0</td>\n",
       "      <td>4.0</td>\n",
       "      <td>0.0</td>\n",
       "      <td>4.0</td>\n",
       "      <td>1.0</td>\n",
       "      <td>37.0</td>\n",
       "      <td>&lt;=50K.</td>\n",
       "    </tr>\n",
       "    <tr>\n",
       "      <th>2</th>\n",
       "      <td>-0.804794</td>\n",
       "      <td>1.395062</td>\n",
       "      <td>0.737599</td>\n",
       "      <td>-0.145438</td>\n",
       "      <td>-0.219169</td>\n",
       "      <td>-0.078889</td>\n",
       "      <td>1.0</td>\n",
       "      <td>7.0</td>\n",
       "      <td>2.0</td>\n",
       "      <td>10.0</td>\n",
       "      <td>0.0</td>\n",
       "      <td>4.0</td>\n",
       "      <td>1.0</td>\n",
       "      <td>37.0</td>\n",
       "      <td>&gt;50K.</td>\n",
       "    </tr>\n",
       "    <tr>\n",
       "      <th>3</th>\n",
       "      <td>0.391000</td>\n",
       "      <td>-0.277369</td>\n",
       "      <td>-0.044066</td>\n",
       "      <td>0.852624</td>\n",
       "      <td>-0.219169</td>\n",
       "      <td>-0.078889</td>\n",
       "      <td>2.0</td>\n",
       "      <td>15.0</td>\n",
       "      <td>2.0</td>\n",
       "      <td>6.0</td>\n",
       "      <td>0.0</td>\n",
       "      <td>2.0</td>\n",
       "      <td>1.0</td>\n",
       "      <td>37.0</td>\n",
       "      <td>&gt;50K.</td>\n",
       "    </tr>\n",
       "    <tr>\n",
       "      <th>4</th>\n",
       "      <td>-0.356371</td>\n",
       "      <td>0.085944</td>\n",
       "      <td>-1.607395</td>\n",
       "      <td>-0.145438</td>\n",
       "      <td>-0.219169</td>\n",
       "      <td>-0.907909</td>\n",
       "      <td>2.0</td>\n",
       "      <td>0.0</td>\n",
       "      <td>4.0</td>\n",
       "      <td>7.0</td>\n",
       "      <td>1.0</td>\n",
       "      <td>4.0</td>\n",
       "      <td>1.0</td>\n",
       "      <td>37.0</td>\n",
       "      <td>&lt;=50K.</td>\n",
       "    </tr>\n",
       "  </tbody>\n",
       "</table>\n",
       "</div>"
      ],
      "text/plain": [
       "        age    fnlwgt  education-num  capital-gain  capital-loss  \\\n",
       "0 -1.029005  0.352098      -1.216563     -0.145438     -0.219169   \n",
       "1 -0.057423 -0.944995      -0.434898     -0.145438     -0.219169   \n",
       "2 -0.804794  1.395062       0.737599     -0.145438     -0.219169   \n",
       "3  0.391000 -0.277369      -0.044066      0.852624     -0.219169   \n",
       "4 -0.356371  0.085944      -1.607395     -0.145438     -0.219169   \n",
       "\n",
       "   hours-per-week  workclass  education  marital-status  occupation  \\\n",
       "0       -0.078889        2.0        1.0             4.0         6.0   \n",
       "1        0.750131        2.0       11.0             2.0         4.0   \n",
       "2       -0.078889        1.0        7.0             2.0        10.0   \n",
       "3       -0.078889        2.0       15.0             2.0         6.0   \n",
       "4       -0.907909        2.0        0.0             4.0         7.0   \n",
       "\n",
       "   relationship  race  sex  native-country   class  \n",
       "0           3.0   2.0  1.0            37.0  <=50K.  \n",
       "1           0.0   4.0  1.0            37.0  <=50K.  \n",
       "2           0.0   4.0  1.0            37.0   >50K.  \n",
       "3           0.0   2.0  1.0            37.0   >50K.  \n",
       "4           1.0   4.0  1.0            37.0  <=50K.  "
      ]
     },
     "execution_count": 20,
     "metadata": {},
     "output_type": "execute_result"
    }
   ],
   "source": [
    "Testing_Data.head()"
   ]
  },
  {
   "cell_type": "code",
   "execution_count": 21,
   "id": "73478328",
   "metadata": {
    "execution": {
     "iopub.execute_input": "2022-05-09T14:31:30.767324Z",
     "iopub.status.busy": "2022-05-09T14:31:30.766915Z",
     "iopub.status.idle": "2022-05-09T14:31:30.779527Z",
     "shell.execute_reply": "2022-05-09T14:31:30.778847Z"
    },
    "papermill": {
     "duration": 0.088333,
     "end_time": "2022-05-09T14:31:30.781601",
     "exception": false,
     "start_time": "2022-05-09T14:31:30.693268",
     "status": "completed"
    },
    "tags": []
   },
   "outputs": [],
   "source": [
    "#removing the . from the class column\n",
    "Testing_Data['class'] = Testing_Data['class'].str[:-1:]"
   ]
  },
  {
   "cell_type": "code",
   "execution_count": 22,
   "id": "bc6392e9",
   "metadata": {
    "execution": {
     "iopub.execute_input": "2022-05-09T14:31:30.930367Z",
     "iopub.status.busy": "2022-05-09T14:31:30.929950Z",
     "iopub.status.idle": "2022-05-09T14:31:33.353344Z",
     "shell.execute_reply": "2022-05-09T14:31:33.352398Z"
    },
    "papermill": {
     "duration": 2.502565,
     "end_time": "2022-05-09T14:31:33.356776",
     "exception": false,
     "start_time": "2022-05-09T14:31:30.854211",
     "status": "completed"
    },
    "tags": []
   },
   "outputs": [
    {
     "data": {
      "image/png": "[encoded data removed]",
      "text/plain": [
       "<Figure size 1440x1440 with 16 Axes>"
      ]
     },
     "metadata": {
      "needs_background": "light"
     },
     "output_type": "display_data"
    }
   ],
   "source": [
    "p = Testing_Data.hist(figsize = (20,20))"
   ]
  },
  {
   "cell_type": "markdown",
   "id": "086f96ff",
   "metadata": {
    "papermill": {
     "duration": 0.081386,
     "end_time": "2022-05-09T14:31:33.518796",
     "exception": false,
     "start_time": "2022-05-09T14:31:33.437410",
     "status": "completed"
    },
    "tags": []
   },
   "source": [
    "# KNN Model"
   ]
  },
  {
   "cell_type": "markdown",
   "id": "72bd67ab",
   "metadata": {
    "papermill": {
     "duration": 0.079633,
     "end_time": "2022-05-09T14:31:33.679712",
     "exception": false,
     "start_time": "2022-05-09T14:31:33.600079",
     "status": "completed"
    },
    "tags": []
   },
   "source": [
    "## Utility Functions"
   ]
  },
  {
   "cell_type": "code",
   "execution_count": 23,
   "id": "5773691e",
   "metadata": {
    "execution": {
     "iopub.execute_input": "2022-05-09T14:31:33.838856Z",
     "iopub.status.busy": "2022-05-09T14:31:33.838516Z",
     "iopub.status.idle": "2022-05-09T14:31:33.843119Z",
     "shell.execute_reply": "2022-05-09T14:31:33.842245Z"
    },
    "papermill": {
     "duration": 0.086059,
     "end_time": "2022-05-09T14:31:33.845048",
     "exception": false,
     "start_time": "2022-05-09T14:31:33.758989",
     "status": "completed"
    },
    "tags": []
   },
   "outputs": [],
   "source": [
    "def Eculidian_Distance(A,B):\n",
    "    return np.linalg.norm(np.subtract(B, A))"
   ]
  },
  {
   "cell_type": "code",
   "execution_count": 24,
   "id": "56850266",
   "metadata": {
    "execution": {
     "iopub.execute_input": "2022-05-09T14:31:34.008688Z",
     "iopub.status.busy": "2022-05-09T14:31:34.007839Z",
     "iopub.status.idle": "2022-05-09T14:31:34.014011Z",
     "shell.execute_reply": "2022-05-09T14:31:34.013445Z"
    },
    "papermill": {
     "duration": 0.091713,
     "end_time": "2022-05-09T14:31:34.015937",
     "exception": false,
     "start_time": "2022-05-09T14:31:33.924224",
     "status": "completed"
    },
    "tags": []
   },
   "outputs": [],
   "source": [
    "def getNeighbors(TrainingSet, testInstance, K_neighbors, AdultData_Training):\n",
    "    distances = []\n",
    "    for i in range(len(TrainingSet)):\n",
    "        distances.append((Eculidian_Distance(TrainingSet[i], testInstance), AdultData_Training[i]))\n",
    "    distances.sort(key=lambda x: x[0])\n",
    "    return distances[:K_neighbors]"
   ]
  },
  {
   "cell_type": "code",
   "execution_count": 25,
   "id": "19893078",
   "metadata": {
    "execution": {
     "iopub.execute_input": "2022-05-09T14:31:34.183143Z",
     "iopub.status.busy": "2022-05-09T14:31:34.182548Z",
     "iopub.status.idle": "2022-05-09T14:31:34.187992Z",
     "shell.execute_reply": "2022-05-09T14:31:34.187371Z"
    },
    "papermill": {
     "duration": 0.090739,
     "end_time": "2022-05-09T14:31:34.189794",
     "exception": false,
     "start_time": "2022-05-09T14:31:34.099055",
     "status": "completed"
    },
    "tags": []
   },
   "outputs": [],
   "source": [
    "def KNN_Prediction(testNeighbors):\n",
    "    # \"For neighbors of eachinstance of Test Set\"\n",
    "    prediction = []\n",
    "    itr = 1\n",
    "    for neighbors in testNeighbors:\n",
    "        class_counter = Counter()\n",
    "        for neighbor in neighbors:\n",
    "            class_counter[neighbor[1]] += 1\n",
    "        prediction.append((itr,class_counter.most_common(1)[0][0]))\n",
    "        itr += 1\n",
    "    return prediction"
   ]
  },
  {
   "cell_type": "code",
   "execution_count": 26,
   "id": "0b8185e6",
   "metadata": {
    "execution": {
     "iopub.execute_input": "2022-05-09T14:31:34.345823Z",
     "iopub.status.busy": "2022-05-09T14:31:34.345316Z",
     "iopub.status.idle": "2022-05-09T14:31:34.352135Z",
     "shell.execute_reply": "2022-05-09T14:31:34.351377Z"
    },
    "papermill": {
     "duration": 0.086366,
     "end_time": "2022-05-09T14:31:34.354188",
     "exception": false,
     "start_time": "2022-05-09T14:31:34.267822",
     "status": "completed"
    },
    "tags": []
   },
   "outputs": [],
   "source": [
    "def createEvalMatrix(prediction, actual):\n",
    "    indexes = np.unique(actual)\n",
    "    print(\"indexes: \", indexes)\n",
    "    df = pd.DataFrame(0, columns =indexes,index = indexes)\n",
    "    for i in range(len(actual)):\n",
    "        if (prediction[i][1] == actual[i]):\n",
    "            df.loc[prediction[i][1]][actual[i]] += 1\n",
    "        else:\n",
    "            df.loc[prediction[i][1]][actual[i]] += 1\n",
    "    return df  "
   ]
  },
  {
   "cell_type": "code",
   "execution_count": 27,
   "id": "b78b8d4d",
   "metadata": {
    "execution": {
     "iopub.execute_input": "2022-05-09T14:31:34.510797Z",
     "iopub.status.busy": "2022-05-09T14:31:34.510130Z",
     "iopub.status.idle": "2022-05-09T14:31:34.519071Z",
     "shell.execute_reply": "2022-05-09T14:31:34.518183Z"
    },
    "papermill": {
     "duration": 0.08796,
     "end_time": "2022-05-09T14:31:34.521313",
     "exception": false,
     "start_time": "2022-05-09T14:31:34.433353",
     "status": "completed"
    },
    "tags": []
   },
   "outputs": [],
   "source": [
    "def GetEvalVars(EvalMatrix, class_, classes_):\n",
    "    tp = EvalMatrix[class_][class_]\n",
    "    fp = 0\n",
    "    for i in range(len(classes_)):\n",
    "        if classes_[i] != class_:\n",
    "            fp += EvalMatrix[class_][classes_[i]]\n",
    "\n",
    "    fn = 0\n",
    "    for i in range(len(classes_)):\n",
    "        if classes_[i] != class_:\n",
    "            fn += EvalMatrix[classes_[i]][class_]\n",
    "  \n",
    "    tn = 0\n",
    "    for i in range(len(classes_)):\n",
    "        if classes_[i] != class_:\n",
    "            for j in range(len(classes_)):\n",
    "                if classes_[j] != class_:\n",
    "                    tn += EvalMatrix[classes_[i]][classes_[j]]\n",
    "  \n",
    "    eval_variables_dict = {'Tp':tp, 'Tn':tn, 'Fp':fp, 'Fn':fn}\n",
    "    return eval_variables_dict \n"
   ]
  },
  {
   "cell_type": "code",
   "execution_count": 28,
   "id": "1cd67277",
   "metadata": {
    "execution": {
     "iopub.execute_input": "2022-05-09T14:31:34.685448Z",
     "iopub.status.busy": "2022-05-09T14:31:34.684974Z",
     "iopub.status.idle": "2022-05-09T14:31:34.696568Z",
     "shell.execute_reply": "2022-05-09T14:31:34.695738Z"
    },
    "papermill": {
     "duration": 0.096113,
     "end_time": "2022-05-09T14:31:34.698875",
     "exception": false,
     "start_time": "2022-05-09T14:31:34.602762",
     "status": "completed"
    },
    "tags": []
   },
   "outputs": [],
   "source": [
    "def Evaulate(predictions, actual):\n",
    "    EvalMatrix_df = createEvalMatrix(predictions, actual)\n",
    "  # print(EvalMatrix_df)\n",
    "    Classes = np.unique(actual)\n",
    "    EvaVars = dict()\n",
    "    for i in range(len(Classes)):\n",
    "        EvaVars[Classes[i]] = GetEvalVars(EvalMatrix_df, Classes[i], Classes)\n",
    "  # print(EvaVars)\n",
    "    evaluations_dict = dict()\n",
    "    for i in range(len(Classes)):\n",
    "        class_ = Classes[i]\n",
    "        tp = EvaVars[Classes[i]]['Tp']\n",
    "        tn = EvaVars[Classes[i]]['Tn']\n",
    "        fp = EvaVars[Classes[i]]['Fp']\n",
    "        fn = EvaVars[Classes[i]]['Fn']\n",
    "\n",
    "    print('True Negative: ', tn)\n",
    "    print('False Positive: ', fp)\n",
    "    print('False Negatives: ', fn)\n",
    "    print('True Positives: ', tp)\n",
    "    accuracy = (tp + tn)/(tp + tn + fp + fn )\n",
    "    evaluations_dict[class_] = dict()\n",
    "    evaluations_dict[class_]['Accuracy'] = accuracy\n",
    "\n",
    "    precision = (tp)/(tp+fp)\n",
    "    evaluations_dict[class_]['Precision'] = precision\n",
    "    \n",
    "    recall = (tp)/(fn+tp)\n",
    "    evaluations_dict[class_]['Recall'] = recall\n",
    "\n",
    "    f1 = (2*precision*recall)/(precision+recall)\n",
    "    evaluations_dict[class_]['F-1'] = f1\n",
    "  \n",
    "    return evaluations_dict\n",
    "  "
   ]
  },
  {
   "cell_type": "code",
   "execution_count": 29,
   "id": "b0f546b4",
   "metadata": {
    "execution": {
     "iopub.execute_input": "2022-05-09T14:31:34.862771Z",
     "iopub.status.busy": "2022-05-09T14:31:34.862432Z",
     "iopub.status.idle": "2022-05-09T14:31:34.867896Z",
     "shell.execute_reply": "2022-05-09T14:31:34.867025Z"
    },
    "papermill": {
     "duration": 0.086854,
     "end_time": "2022-05-09T14:31:34.869947",
     "exception": false,
     "start_time": "2022-05-09T14:31:34.783093",
     "status": "completed"
    },
    "tags": []
   },
   "outputs": [],
   "source": [
    "def KNN(TrainingSet, TestSet, AdultData_Training, AdultData_Testing, K):\n",
    "    testNeighbors = []\n",
    "\n",
    "    for i in range(len(TestSet)):\n",
    "    # \"For ech instance of Test Data we have a list of K neighbors\"\n",
    "        testNeighbors.append(getNeighbors(TrainingSet, TestSet[i], K, AdultData_Training))\n",
    "    return KNN_Prediction(testNeighbors)"
   ]
  },
  {
   "cell_type": "code",
   "execution_count": 30,
   "id": "431c63e9",
   "metadata": {
    "execution": {
     "iopub.execute_input": "2022-05-09T14:31:35.033348Z",
     "iopub.status.busy": "2022-05-09T14:31:35.032893Z",
     "iopub.status.idle": "2022-05-09T14:31:35.038441Z",
     "shell.execute_reply": "2022-05-09T14:31:35.037867Z"
    },
    "papermill": {
     "duration": 0.089732,
     "end_time": "2022-05-09T14:31:35.040546",
     "exception": false,
     "start_time": "2022-05-09T14:31:34.950814",
     "status": "completed"
    },
    "tags": []
   },
   "outputs": [],
   "source": [
    "def RunKnn(TrainingSet_, TestSet_, AdultData_Training_, AdultData_Testings_, iterations):\n",
    "    k=13\n",
    "    for i in range(iterations):\n",
    "        \n",
    "        PredictedResult = KNN(TrainingSet_, TestSet_, AdultData_Training_, AdultData_Testings_, k)\n",
    "#         print(\"Predicted Result: \", PredictedResult)\n",
    "        eval_results = Evaulate(PredictedResult,AdultData_Testings_ )\n",
    "\n",
    "        for key in eval_results.keys():\n",
    "            print(\"For Class = \",key, \": \", eval_results[key])\n",
    "            \n",
    "\n",
    "\n"
   ]
  },
  {
   "cell_type": "markdown",
   "id": "d3b4dd3b",
   "metadata": {
    "papermill": {
     "duration": 0.07935,
     "end_time": "2022-05-09T14:31:35.198816",
     "exception": false,
     "start_time": "2022-05-09T14:31:35.119466",
     "status": "completed"
    },
    "tags": []
   },
   "source": [
    "## Preparing data to send into model"
   ]
  },
  {
   "cell_type": "code",
   "execution_count": 31,
   "id": "aa1277a6",
   "metadata": {
    "execution": {
     "iopub.execute_input": "2022-05-09T14:31:35.363617Z",
     "iopub.status.busy": "2022-05-09T14:31:35.362756Z",
     "iopub.status.idle": "2022-05-09T14:31:35.368296Z",
     "shell.execute_reply": "2022-05-09T14:31:35.367664Z"
    },
    "papermill": {
     "duration": 0.09015,
     "end_time": "2022-05-09T14:31:35.370278",
     "exception": false,
     "start_time": "2022-05-09T14:31:35.280128",
     "status": "completed"
    },
    "tags": []
   },
   "outputs": [],
   "source": [
    "Test_X = Testing_Data.drop('class',axis=1)\n",
    "Test_Y = Testing_Data['class']"
   ]
  },
  {
   "cell_type": "code",
   "execution_count": 32,
   "id": "a27a26fb",
   "metadata": {
    "execution": {
     "iopub.execute_input": "2022-05-09T14:31:35.536220Z",
     "iopub.status.busy": "2022-05-09T14:31:35.535775Z",
     "iopub.status.idle": "2022-05-09T14:31:35.565601Z",
     "shell.execute_reply": "2022-05-09T14:31:35.564742Z"
    },
    "papermill": {
     "duration": 0.11454,
     "end_time": "2022-05-09T14:31:35.567882",
     "exception": false,
     "start_time": "2022-05-09T14:31:35.453342",
     "status": "completed"
    },
    "tags": []
   },
   "outputs": [
    {
     "data": {
      "text/html": [
       "<div>\n",
       "<style scoped>\n",
       "    .dataframe tbody tr th:only-of-type {\n",
       "        vertical-align: middle;\n",
       "    }\n",
       "\n",
       "    .dataframe tbody tr th {\n",
       "        vertical-align: top;\n",
       "    }\n",
       "\n",
       "    .dataframe thead th {\n",
       "        text-align: right;\n",
       "    }\n",
       "</style>\n",
       "<table border=\"1\" class=\"dataframe\">\n",
       "  <thead>\n",
       "    <tr style=\"text-align: right;\">\n",
       "      <th></th>\n",
       "      <th>age</th>\n",
       "      <th>fnlwgt</th>\n",
       "      <th>education-num</th>\n",
       "      <th>capital-gain</th>\n",
       "      <th>capital-loss</th>\n",
       "      <th>hours-per-week</th>\n",
       "      <th>workclass</th>\n",
       "      <th>education</th>\n",
       "      <th>marital-status</th>\n",
       "      <th>occupation</th>\n",
       "      <th>relationship</th>\n",
       "      <th>race</th>\n",
       "      <th>sex</th>\n",
       "      <th>native-country</th>\n",
       "    </tr>\n",
       "  </thead>\n",
       "  <tbody>\n",
       "    <tr>\n",
       "      <th>0</th>\n",
       "      <td>-1.029005</td>\n",
       "      <td>0.352098</td>\n",
       "      <td>-1.216563</td>\n",
       "      <td>-0.145438</td>\n",
       "      <td>-0.219169</td>\n",
       "      <td>-0.078889</td>\n",
       "      <td>2.0</td>\n",
       "      <td>1.0</td>\n",
       "      <td>4.0</td>\n",
       "      <td>6.0</td>\n",
       "      <td>3.0</td>\n",
       "      <td>2.0</td>\n",
       "      <td>1.0</td>\n",
       "      <td>37.0</td>\n",
       "    </tr>\n",
       "    <tr>\n",
       "      <th>1</th>\n",
       "      <td>-0.057423</td>\n",
       "      <td>-0.944995</td>\n",
       "      <td>-0.434898</td>\n",
       "      <td>-0.145438</td>\n",
       "      <td>-0.219169</td>\n",
       "      <td>0.750131</td>\n",
       "      <td>2.0</td>\n",
       "      <td>11.0</td>\n",
       "      <td>2.0</td>\n",
       "      <td>4.0</td>\n",
       "      <td>0.0</td>\n",
       "      <td>4.0</td>\n",
       "      <td>1.0</td>\n",
       "      <td>37.0</td>\n",
       "    </tr>\n",
       "    <tr>\n",
       "      <th>2</th>\n",
       "      <td>-0.804794</td>\n",
       "      <td>1.395062</td>\n",
       "      <td>0.737599</td>\n",
       "      <td>-0.145438</td>\n",
       "      <td>-0.219169</td>\n",
       "      <td>-0.078889</td>\n",
       "      <td>1.0</td>\n",
       "      <td>7.0</td>\n",
       "      <td>2.0</td>\n",
       "      <td>10.0</td>\n",
       "      <td>0.0</td>\n",
       "      <td>4.0</td>\n",
       "      <td>1.0</td>\n",
       "      <td>37.0</td>\n",
       "    </tr>\n",
       "    <tr>\n",
       "      <th>3</th>\n",
       "      <td>0.391000</td>\n",
       "      <td>-0.277369</td>\n",
       "      <td>-0.044066</td>\n",
       "      <td>0.852624</td>\n",
       "      <td>-0.219169</td>\n",
       "      <td>-0.078889</td>\n",
       "      <td>2.0</td>\n",
       "      <td>15.0</td>\n",
       "      <td>2.0</td>\n",
       "      <td>6.0</td>\n",
       "      <td>0.0</td>\n",
       "      <td>2.0</td>\n",
       "      <td>1.0</td>\n",
       "      <td>37.0</td>\n",
       "    </tr>\n",
       "    <tr>\n",
       "      <th>4</th>\n",
       "      <td>-0.356371</td>\n",
       "      <td>0.085944</td>\n",
       "      <td>-1.607395</td>\n",
       "      <td>-0.145438</td>\n",
       "      <td>-0.219169</td>\n",
       "      <td>-0.907909</td>\n",
       "      <td>2.0</td>\n",
       "      <td>0.0</td>\n",
       "      <td>4.0</td>\n",
       "      <td>7.0</td>\n",
       "      <td>1.0</td>\n",
       "      <td>4.0</td>\n",
       "      <td>1.0</td>\n",
       "      <td>37.0</td>\n",
       "    </tr>\n",
       "    <tr>\n",
       "      <th>...</th>\n",
       "      <td>...</td>\n",
       "      <td>...</td>\n",
       "      <td>...</td>\n",
       "      <td>...</td>\n",
       "      <td>...</td>\n",
       "      <td>...</td>\n",
       "      <td>...</td>\n",
       "      <td>...</td>\n",
       "      <td>...</td>\n",
       "      <td>...</td>\n",
       "      <td>...</td>\n",
       "      <td>...</td>\n",
       "      <td>...</td>\n",
       "      <td>...</td>\n",
       "    </tr>\n",
       "    <tr>\n",
       "      <th>15055</th>\n",
       "      <td>-0.431108</td>\n",
       "      <td>0.526407</td>\n",
       "      <td>1.128431</td>\n",
       "      <td>-0.145438</td>\n",
       "      <td>-0.219169</td>\n",
       "      <td>-0.078889</td>\n",
       "      <td>2.0</td>\n",
       "      <td>9.0</td>\n",
       "      <td>4.0</td>\n",
       "      <td>9.0</td>\n",
       "      <td>3.0</td>\n",
       "      <td>4.0</td>\n",
       "      <td>1.0</td>\n",
       "      <td>37.0</td>\n",
       "    </tr>\n",
       "    <tr>\n",
       "      <th>15056</th>\n",
       "      <td>0.017315</td>\n",
       "      <td>0.244316</td>\n",
       "      <td>1.128431</td>\n",
       "      <td>-0.145438</td>\n",
       "      <td>-0.219169</td>\n",
       "      <td>-0.410497</td>\n",
       "      <td>2.0</td>\n",
       "      <td>9.0</td>\n",
       "      <td>0.0</td>\n",
       "      <td>9.0</td>\n",
       "      <td>1.0</td>\n",
       "      <td>4.0</td>\n",
       "      <td>0.0</td>\n",
       "      <td>37.0</td>\n",
       "    </tr>\n",
       "    <tr>\n",
       "      <th>15057</th>\n",
       "      <td>-0.057423</td>\n",
       "      <td>1.755175</td>\n",
       "      <td>1.128431</td>\n",
       "      <td>-0.145438</td>\n",
       "      <td>-0.219169</td>\n",
       "      <td>0.750131</td>\n",
       "      <td>2.0</td>\n",
       "      <td>9.0</td>\n",
       "      <td>2.0</td>\n",
       "      <td>9.0</td>\n",
       "      <td>0.0</td>\n",
       "      <td>4.0</td>\n",
       "      <td>1.0</td>\n",
       "      <td>37.0</td>\n",
       "    </tr>\n",
       "    <tr>\n",
       "      <th>15058</th>\n",
       "      <td>0.391000</td>\n",
       "      <td>-1.001078</td>\n",
       "      <td>1.128431</td>\n",
       "      <td>0.562734</td>\n",
       "      <td>-0.219169</td>\n",
       "      <td>-0.078889</td>\n",
       "      <td>2.0</td>\n",
       "      <td>9.0</td>\n",
       "      <td>0.0</td>\n",
       "      <td>0.0</td>\n",
       "      <td>3.0</td>\n",
       "      <td>1.0</td>\n",
       "      <td>1.0</td>\n",
       "      <td>37.0</td>\n",
       "    </tr>\n",
       "    <tr>\n",
       "      <th>15059</th>\n",
       "      <td>-0.281634</td>\n",
       "      <td>-0.070716</td>\n",
       "      <td>1.128431</td>\n",
       "      <td>-0.145438</td>\n",
       "      <td>-0.219169</td>\n",
       "      <td>1.579152</td>\n",
       "      <td>3.0</td>\n",
       "      <td>9.0</td>\n",
       "      <td>2.0</td>\n",
       "      <td>3.0</td>\n",
       "      <td>0.0</td>\n",
       "      <td>4.0</td>\n",
       "      <td>1.0</td>\n",
       "      <td>37.0</td>\n",
       "    </tr>\n",
       "  </tbody>\n",
       "</table>\n",
       "<p>15060 rows × 14 columns</p>\n",
       "</div>"
      ],
      "text/plain": [
       "            age    fnlwgt  education-num  capital-gain  capital-loss  \\\n",
       "0     -1.029005  0.352098      -1.216563     -0.145438     -0.219169   \n",
       "1     -0.057423 -0.944995      -0.434898     -0.145438     -0.219169   \n",
       "2     -0.804794  1.395062       0.737599     -0.145438     -0.219169   \n",
       "3      0.391000 -0.277369      -0.044066      0.852624     -0.219169   \n",
       "4     -0.356371  0.085944      -1.607395     -0.145438     -0.219169   \n",
       "...         ...       ...            ...           ...           ...   \n",
       "15055 -0.431108  0.526407       1.128431     -0.145438     -0.219169   \n",
       "15056  0.017315  0.244316       1.128431     -0.145438     -0.219169   \n",
       "15057 -0.057423  1.755175       1.128431     -0.145438     -0.219169   \n",
       "15058  0.391000 -1.001078       1.128431      0.562734     -0.219169   \n",
       "15059 -0.281634 -0.070716       1.128431     -0.145438     -0.219169   \n",
       "\n",
       "       hours-per-week  workclass  education  marital-status  occupation  \\\n",
       "0           -0.078889        2.0        1.0             4.0         6.0   \n",
       "1            0.750131        2.0       11.0             2.0         4.0   \n",
       "2           -0.078889        1.0        7.0             2.0        10.0   \n",
       "3           -0.078889        2.0       15.0             2.0         6.0   \n",
       "4           -0.907909        2.0        0.0             4.0         7.0   \n",
       "...               ...        ...        ...             ...         ...   \n",
       "15055       -0.078889        2.0        9.0             4.0         9.0   \n",
       "15056       -0.410497        2.0        9.0             0.0         9.0   \n",
       "15057        0.750131        2.0        9.0             2.0         9.0   \n",
       "15058       -0.078889        2.0        9.0             0.0         0.0   \n",
       "15059        1.579152        3.0        9.0             2.0         3.0   \n",
       "\n",
       "       relationship  race  sex  native-country  \n",
       "0               3.0   2.0  1.0            37.0  \n",
       "1               0.0   4.0  1.0            37.0  \n",
       "2               0.0   4.0  1.0            37.0  \n",
       "3               0.0   2.0  1.0            37.0  \n",
       "4               1.0   4.0  1.0            37.0  \n",
       "...             ...   ...  ...             ...  \n",
       "15055           3.0   4.0  1.0            37.0  \n",
       "15056           1.0   4.0  0.0            37.0  \n",
       "15057           0.0   4.0  1.0            37.0  \n",
       "15058           3.0   1.0  1.0            37.0  \n",
       "15059           0.0   4.0  1.0            37.0  \n",
       "\n",
       "[15060 rows x 14 columns]"
      ]
     },
     "execution_count": 32,
     "metadata": {},
     "output_type": "execute_result"
    }
   ],
   "source": [
    "Test_X"
   ]
  },
  {
   "cell_type": "code",
   "execution_count": 33,
   "id": "5298330e",
   "metadata": {
    "execution": {
     "iopub.execute_input": "2022-05-09T14:31:35.722128Z",
     "iopub.status.busy": "2022-05-09T14:31:35.721375Z",
     "iopub.status.idle": "2022-05-09T14:31:35.728875Z",
     "shell.execute_reply": "2022-05-09T14:31:35.728063Z"
    },
    "papermill": {
     "duration": 0.086779,
     "end_time": "2022-05-09T14:31:35.730701",
     "exception": false,
     "start_time": "2022-05-09T14:31:35.643922",
     "status": "completed"
    },
    "tags": []
   },
   "outputs": [
    {
     "data": {
      "text/plain": [
       "0        <=50K\n",
       "1        <=50K\n",
       "2         >50K\n",
       "3         >50K\n",
       "4        <=50K\n",
       "         ...  \n",
       "15055    <=50K\n",
       "15056    <=50K\n",
       "15057    <=50K\n",
       "15058    <=50K\n",
       "15059     >50K\n",
       "Name: class, Length: 15060, dtype: object"
      ]
     },
     "execution_count": 33,
     "metadata": {},
     "output_type": "execute_result"
    }
   ],
   "source": [
    "Test_Y"
   ]
  },
  {
   "cell_type": "markdown",
   "id": "3fa5ebe0",
   "metadata": {
    "papermill": {
     "duration": 0.076033,
     "end_time": "2022-05-09T14:31:35.883029",
     "exception": false,
     "start_time": "2022-05-09T14:31:35.806996",
     "status": "completed"
    },
    "tags": []
   },
   "source": [
    "### Balancing Training Data"
   ]
  },
  {
   "cell_type": "markdown",
   "id": "72e25216",
   "metadata": {
    "papermill": {
     "duration": 0.075676,
     "end_time": "2022-05-09T14:31:36.036294",
     "exception": false,
     "start_time": "2022-05-09T14:31:35.960618",
     "status": "completed"
    },
    "tags": []
   },
   "source": [
    "#### Class distribution in training data"
   ]
  },
  {
   "cell_type": "code",
   "execution_count": 34,
   "id": "d4e2320a",
   "metadata": {
    "execution": {
     "iopub.execute_input": "2022-05-09T14:31:36.190332Z",
     "iopub.status.busy": "2022-05-09T14:31:36.189521Z",
     "iopub.status.idle": "2022-05-09T14:31:36.486568Z",
     "shell.execute_reply": "2022-05-09T14:31:36.485904Z"
    },
    "papermill": {
     "duration": 0.376372,
     "end_time": "2022-05-09T14:31:36.488498",
     "exception": false,
     "start_time": "2022-05-09T14:31:36.112126",
     "status": "completed"
    },
    "tags": []
   },
   "outputs": [
    {
     "data": {
      "text/plain": [
       "<AxesSubplot:>"
      ]
     },
     "execution_count": 34,
     "metadata": {},
     "output_type": "execute_result"
    },
    {
     "data": {
      "image/png": "[encoded data removed]",
      "text/plain": [
       "<Figure size 576x360 with 1 Axes>"
      ]
     },
     "metadata": {
      "needs_background": "light"
     },
     "output_type": "display_data"
    }
   ],
   "source": [
    "import seaborn as sns\n",
    "import matplotlib.pyplot as plt\n",
    "%matplotlib inline\n",
    "\n",
    "plt.figure(figsize=(8,5))\n",
    "colors = ['red','blue']\n",
    "Training_Data['class'].value_counts().plot(kind='barh', color=colors)\n"
   ]
  },
  {
   "cell_type": "code",
   "execution_count": 35,
   "id": "34d4e1f9",
   "metadata": {
    "execution": {
     "iopub.execute_input": "2022-05-09T14:31:36.644766Z",
     "iopub.status.busy": "2022-05-09T14:31:36.644141Z",
     "iopub.status.idle": "2022-05-09T14:31:36.652230Z",
     "shell.execute_reply": "2022-05-09T14:31:36.651702Z"
    },
    "papermill": {
     "duration": 0.087976,
     "end_time": "2022-05-09T14:31:36.653923",
     "exception": false,
     "start_time": "2022-05-09T14:31:36.565947",
     "status": "completed"
    },
    "tags": []
   },
   "outputs": [
    {
     "data": {
      "text/plain": [
       "array(['<=50K', '>50K'], dtype=object)"
      ]
     },
     "execution_count": 35,
     "metadata": {},
     "output_type": "execute_result"
    }
   ],
   "source": [
    "vals = Training_Data['class'].unique()\n",
    "vals"
   ]
  },
  {
   "cell_type": "code",
   "execution_count": 36,
   "id": "4c6a1ed1",
   "metadata": {
    "execution": {
     "iopub.execute_input": "2022-05-09T14:31:36.811736Z",
     "iopub.status.busy": "2022-05-09T14:31:36.811248Z",
     "iopub.status.idle": "2022-05-09T14:31:36.815482Z",
     "shell.execute_reply": "2022-05-09T14:31:36.814906Z"
    },
    "papermill": {
     "duration": 0.086109,
     "end_time": "2022-05-09T14:31:36.818021",
     "exception": false,
     "start_time": "2022-05-09T14:31:36.731912",
     "status": "completed"
    },
    "tags": []
   },
   "outputs": [
    {
     "name": "stdout",
     "output_type": "stream",
     "text": [
      "<=50K\n",
      ">50K\n"
     ]
    }
   ],
   "source": [
    "print(vals[0])\n",
    "print(vals[1])"
   ]
  },
  {
   "cell_type": "code",
   "execution_count": 37,
   "id": "555365f9",
   "metadata": {
    "execution": {
     "iopub.execute_input": "2022-05-09T14:31:36.981040Z",
     "iopub.status.busy": "2022-05-09T14:31:36.980095Z",
     "iopub.status.idle": "2022-05-09T14:31:36.999225Z",
     "shell.execute_reply": "2022-05-09T14:31:36.998231Z"
    },
    "papermill": {
     "duration": 0.103802,
     "end_time": "2022-05-09T14:31:37.001752",
     "exception": false,
     "start_time": "2022-05-09T14:31:36.897950",
     "status": "completed"
    },
    "tags": []
   },
   "outputs": [],
   "source": [
    "train_low = Training_Data[(Training_Data['class'] == vals[0] )]\n",
    "\n",
    "train_high = Training_Data[Training_Data['class'] == vals[1]]"
   ]
  },
  {
   "cell_type": "code",
   "execution_count": 38,
   "id": "afe0ec5c",
   "metadata": {
    "execution": {
     "iopub.execute_input": "2022-05-09T14:31:37.160141Z",
     "iopub.status.busy": "2022-05-09T14:31:37.159849Z",
     "iopub.status.idle": "2022-05-09T14:31:37.164475Z",
     "shell.execute_reply": "2022-05-09T14:31:37.163951Z"
    },
    "papermill": {
     "duration": 0.08662,
     "end_time": "2022-05-09T14:31:37.166431",
     "exception": false,
     "start_time": "2022-05-09T14:31:37.079811",
     "status": "completed"
    },
    "tags": []
   },
   "outputs": [
    {
     "data": {
      "text/plain": [
       "(22654, 15)"
      ]
     },
     "execution_count": 38,
     "metadata": {},
     "output_type": "execute_result"
    }
   ],
   "source": [
    "train_low.shape"
   ]
  },
  {
   "cell_type": "code",
   "execution_count": 39,
   "id": "197be058",
   "metadata": {
    "execution": {
     "iopub.execute_input": "2022-05-09T14:31:37.325021Z",
     "iopub.status.busy": "2022-05-09T14:31:37.324483Z",
     "iopub.status.idle": "2022-05-09T14:31:37.329209Z",
     "shell.execute_reply": "2022-05-09T14:31:37.328644Z"
    },
    "papermill": {
     "duration": 0.086697,
     "end_time": "2022-05-09T14:31:37.330891",
     "exception": false,
     "start_time": "2022-05-09T14:31:37.244194",
     "status": "completed"
    },
    "tags": []
   },
   "outputs": [
    {
     "data": {
      "text/plain": [
       "(7508, 15)"
      ]
     },
     "execution_count": 39,
     "metadata": {},
     "output_type": "execute_result"
    }
   ],
   "source": [
    "train_high.shape"
   ]
  },
  {
   "cell_type": "code",
   "execution_count": 40,
   "id": "a776dfe6",
   "metadata": {
    "execution": {
     "iopub.execute_input": "2022-05-09T14:31:37.489150Z",
     "iopub.status.busy": "2022-05-09T14:31:37.488661Z",
     "iopub.status.idle": "2022-05-09T14:31:37.496728Z",
     "shell.execute_reply": "2022-05-09T14:31:37.496190Z"
    },
    "papermill": {
     "duration": 0.089349,
     "end_time": "2022-05-09T14:31:37.498606",
     "exception": false,
     "start_time": "2022-05-09T14:31:37.409257",
     "status": "completed"
    },
    "tags": []
   },
   "outputs": [],
   "source": [
    "train_df = pd.concat([\n",
    "  train_low.sample(2000),\n",
    "  train_high.sample(2000)\n",
    "])"
   ]
  },
  {
   "cell_type": "code",
   "execution_count": 41,
   "id": "cdd8b14e",
   "metadata": {
    "execution": {
     "iopub.execute_input": "2022-05-09T14:31:37.657200Z",
     "iopub.status.busy": "2022-05-09T14:31:37.656689Z",
     "iopub.status.idle": "2022-05-09T14:31:37.662283Z",
     "shell.execute_reply": "2022-05-09T14:31:37.661462Z"
    },
    "papermill": {
     "duration": 0.08714,
     "end_time": "2022-05-09T14:31:37.664419",
     "exception": false,
     "start_time": "2022-05-09T14:31:37.577279",
     "status": "completed"
    },
    "tags": []
   },
   "outputs": [],
   "source": [
    "Train_X = train_df.drop('class',axis=1)\n",
    "Train_Y = train_df['class']"
   ]
  },
  {
   "cell_type": "code",
   "execution_count": 42,
   "id": "57caec35",
   "metadata": {
    "execution": {
     "iopub.execute_input": "2022-05-09T14:31:37.822603Z",
     "iopub.status.busy": "2022-05-09T14:31:37.822325Z",
     "iopub.status.idle": "2022-05-09T14:31:39.077991Z",
     "shell.execute_reply": "2022-05-09T14:31:39.077110Z"
    },
    "papermill": {
     "duration": 1.338681,
     "end_time": "2022-05-09T14:31:39.081772",
     "exception": false,
     "start_time": "2022-05-09T14:31:37.743091",
     "status": "completed"
    },
    "tags": []
   },
   "outputs": [
    {
     "data": {
      "image/png": "[encoded data removed]",
      "text/plain": [
       "<Figure size 864x720 with 2 Axes>"
      ]
     },
     "metadata": {
      "needs_background": "light"
     },
     "output_type": "display_data"
    }
   ],
   "source": [
    "# Correlation of each feature\n",
    "import seaborn as sns\n",
    "import matplotlib.pyplot as plt\n",
    "\n",
    "plt.figure(figsize=(12,10))\n",
    "p=sns.heatmap(Training_Data.corr(), annot=True,cmap ='Blues') "
   ]
  },
  {
   "cell_type": "markdown",
   "id": "c344c2d3",
   "metadata": {
    "papermill": {
     "duration": 0.082167,
     "end_time": "2022-05-09T14:31:39.246538",
     "exception": false,
     "start_time": "2022-05-09T14:31:39.164371",
     "status": "completed"
    },
    "tags": []
   },
   "source": [
    "### Balancing Testing Data"
   ]
  },
  {
   "cell_type": "markdown",
   "id": "2d3afe5c",
   "metadata": {
    "papermill": {
     "duration": 0.081921,
     "end_time": "2022-05-09T14:31:39.410870",
     "exception": false,
     "start_time": "2022-05-09T14:31:39.328949",
     "status": "completed"
    },
    "tags": []
   },
   "source": [
    "#### Class Distribution in Testing data"
   ]
  },
  {
   "cell_type": "code",
   "execution_count": 43,
   "id": "6d4865f4",
   "metadata": {
    "execution": {
     "iopub.execute_input": "2022-05-09T14:31:39.577624Z",
     "iopub.status.busy": "2022-05-09T14:31:39.577036Z",
     "iopub.status.idle": "2022-05-09T14:31:39.712109Z",
     "shell.execute_reply": "2022-05-09T14:31:39.711482Z"
    },
    "papermill": {
     "duration": 0.220946,
     "end_time": "2022-05-09T14:31:39.714154",
     "exception": false,
     "start_time": "2022-05-09T14:31:39.493208",
     "status": "completed"
    },
    "tags": []
   },
   "outputs": [
    {
     "data": {
      "text/plain": [
       "<AxesSubplot:>"
      ]
     },
     "execution_count": 43,
     "metadata": {},
     "output_type": "execute_result"
    },
    {
     "data": {
      "image/png": "[encoded data removed]",
      "text/plain": [
       "<Figure size 576x360 with 1 Axes>"
      ]
     },
     "metadata": {
      "needs_background": "light"
     },
     "output_type": "display_data"
    }
   ],
   "source": [
    "import seaborn as sns\n",
    "import matplotlib.pyplot as plt\n",
    "%matplotlib inline\n",
    "\n",
    "plt.figure(figsize=(8,5))\n",
    "colors = ['red','blue']\n",
    "Testing_Data['class'].value_counts().plot(kind='barh', color=colors)"
   ]
  },
  {
   "cell_type": "code",
   "execution_count": 44,
   "id": "14fa9830",
   "metadata": {
    "execution": {
     "iopub.execute_input": "2022-05-09T14:31:39.886263Z",
     "iopub.status.busy": "2022-05-09T14:31:39.885690Z",
     "iopub.status.idle": "2022-05-09T14:31:39.893278Z",
     "shell.execute_reply": "2022-05-09T14:31:39.892560Z"
    },
    "papermill": {
     "duration": 0.095843,
     "end_time": "2022-05-09T14:31:39.895211",
     "exception": false,
     "start_time": "2022-05-09T14:31:39.799368",
     "status": "completed"
    },
    "tags": []
   },
   "outputs": [
    {
     "data": {
      "text/plain": [
       "array(['<=50K', '>50K'], dtype=object)"
      ]
     },
     "execution_count": 44,
     "metadata": {},
     "output_type": "execute_result"
    }
   ],
   "source": [
    "vals = Testing_Data['class'].unique()\n",
    "vals"
   ]
  },
  {
   "cell_type": "code",
   "execution_count": 45,
   "id": "a471d0fc",
   "metadata": {
    "execution": {
     "iopub.execute_input": "2022-05-09T14:31:40.066426Z",
     "iopub.status.busy": "2022-05-09T14:31:40.066163Z",
     "iopub.status.idle": "2022-05-09T14:31:40.078454Z",
     "shell.execute_reply": "2022-05-09T14:31:40.077736Z"
    },
    "papermill": {
     "duration": 0.100266,
     "end_time": "2022-05-09T14:31:40.080701",
     "exception": false,
     "start_time": "2022-05-09T14:31:39.980435",
     "status": "completed"
    },
    "tags": []
   },
   "outputs": [],
   "source": [
    "test_low = Testing_Data[(Testing_Data['class'] == vals[0] )]\n",
    "\n",
    "test_high = Testing_Data[Testing_Data['class'] == vals[1]]"
   ]
  },
  {
   "cell_type": "code",
   "execution_count": 46,
   "id": "1f2c7604",
   "metadata": {
    "execution": {
     "iopub.execute_input": "2022-05-09T14:31:40.250918Z",
     "iopub.status.busy": "2022-05-09T14:31:40.250278Z",
     "iopub.status.idle": "2022-05-09T14:31:40.256882Z",
     "shell.execute_reply": "2022-05-09T14:31:40.255864Z"
    },
    "papermill": {
     "duration": 0.094019,
     "end_time": "2022-05-09T14:31:40.258854",
     "exception": false,
     "start_time": "2022-05-09T14:31:40.164835",
     "status": "completed"
    },
    "tags": []
   },
   "outputs": [
    {
     "data": {
      "text/plain": [
       "((11360, 15), (3700, 15))"
      ]
     },
     "execution_count": 46,
     "metadata": {},
     "output_type": "execute_result"
    }
   ],
   "source": [
    "test_low.shape, test_high.shape"
   ]
  },
  {
   "cell_type": "code",
   "execution_count": 47,
   "id": "794ca5a1",
   "metadata": {
    "execution": {
     "iopub.execute_input": "2022-05-09T14:31:40.429634Z",
     "iopub.status.busy": "2022-05-09T14:31:40.428993Z",
     "iopub.status.idle": "2022-05-09T14:31:40.435536Z",
     "shell.execute_reply": "2022-05-09T14:31:40.434979Z"
    },
    "papermill": {
     "duration": 0.094636,
     "end_time": "2022-05-09T14:31:40.437545",
     "exception": false,
     "start_time": "2022-05-09T14:31:40.342909",
     "status": "completed"
    },
    "tags": []
   },
   "outputs": [],
   "source": [
    "test_df = pd.concat([\n",
    "  test_low.sample(500),\n",
    "  test_high.sample(500)\n",
    "])"
   ]
  },
  {
   "cell_type": "code",
   "execution_count": 48,
   "id": "7b1614b9",
   "metadata": {
    "execution": {
     "iopub.execute_input": "2022-05-09T14:31:40.608834Z",
     "iopub.status.busy": "2022-05-09T14:31:40.608281Z",
     "iopub.status.idle": "2022-05-09T14:31:40.613827Z",
     "shell.execute_reply": "2022-05-09T14:31:40.613114Z"
    },
    "papermill": {
     "duration": 0.093192,
     "end_time": "2022-05-09T14:31:40.615865",
     "exception": false,
     "start_time": "2022-05-09T14:31:40.522673",
     "status": "completed"
    },
    "tags": []
   },
   "outputs": [],
   "source": [
    "Test_X = test_df.drop('class',axis=1)\n",
    "Test_Y = test_df['class']"
   ]
  },
  {
   "cell_type": "code",
   "execution_count": 49,
   "id": "71156db1",
   "metadata": {
    "execution": {
     "iopub.execute_input": "2022-05-09T14:31:40.790401Z",
     "iopub.status.busy": "2022-05-09T14:31:40.789844Z",
     "iopub.status.idle": "2022-05-09T14:32:20.486567Z",
     "shell.execute_reply": "2022-05-09T14:32:20.485656Z"
    },
    "papermill": {
     "duration": 39.87026,
     "end_time": "2022-05-09T14:32:20.573620",
     "exception": false,
     "start_time": "2022-05-09T14:31:40.703360",
     "status": "completed"
    },
    "tags": []
   },
   "outputs": [
    {
     "name": "stdout",
     "output_type": "stream",
     "text": [
      "indexes:  ['<=50K' '>50K']\n",
      "True Negative:  374\n",
      "False Positive:  87\n",
      "False Negatives:  126\n",
      "True Positives:  413\n",
      "For Class =  >50K :  {'Accuracy': 0.787, 'Precision': 0.826, 'Recall': 0.7662337662337663, 'F-1': 0.794995187680462}\n"
     ]
    }
   ],
   "source": [
    "RunKnn(np.array(Train_X), np.array(Test_X),np.array(Train_Y), np.array(Test_Y), 1)"
   ]
  },
  {
   "cell_type": "markdown",
   "id": "511abe67",
   "metadata": {
    "papermill": {
     "duration": 0.084815,
     "end_time": "2022-05-09T14:32:20.743354",
     "exception": false,
     "start_time": "2022-05-09T14:32:20.658539",
     "status": "completed"
    },
    "tags": []
   },
   "source": [
    "# Logistic Regression"
   ]
  },
  {
   "cell_type": "code",
   "execution_count": 50,
   "id": "bac53af6",
   "metadata": {
    "execution": {
     "iopub.execute_input": "2022-05-09T14:32:20.914392Z",
     "iopub.status.busy": "2022-05-09T14:32:20.914096Z",
     "iopub.status.idle": "2022-05-09T14:32:21.181220Z",
     "shell.execute_reply": "2022-05-09T14:32:21.179842Z"
    },
    "papermill": {
     "duration": 0.356399,
     "end_time": "2022-05-09T14:32:21.184398",
     "exception": false,
     "start_time": "2022-05-09T14:32:20.827999",
     "status": "completed"
    },
    "tags": []
   },
   "outputs": [
    {
     "data": {
      "text/plain": [
       "LogisticRegression()"
      ]
     },
     "execution_count": 50,
     "metadata": {},
     "output_type": "execute_result"
    }
   ],
   "source": [
    "from sklearn.linear_model import LogisticRegression\n",
    "from sklearn import metrics\n",
    "\n",
    "logreg = LogisticRegression()\n",
    "logreg.fit(Train_X, Train_Y)"
   ]
  },
  {
   "cell_type": "code",
   "execution_count": 51,
   "id": "33491218",
   "metadata": {
    "execution": {
     "iopub.execute_input": "2022-05-09T14:32:21.408343Z",
     "iopub.status.busy": "2022-05-09T14:32:21.408085Z",
     "iopub.status.idle": "2022-05-09T14:32:21.424664Z",
     "shell.execute_reply": "2022-05-09T14:32:21.423789Z"
    },
    "papermill": {
     "duration": 0.106528,
     "end_time": "2022-05-09T14:32:21.427928",
     "exception": false,
     "start_time": "2022-05-09T14:32:21.321400",
     "status": "completed"
    },
    "tags": []
   },
   "outputs": [
    {
     "name": "stdout",
     "output_type": "stream",
     "text": [
      "Accuracy of logistic regression classifier on test set: 0.75\n"
     ]
    }
   ],
   "source": [
    "y_pred = logreg.predict(Test_X)\n",
    "print('Accuracy of logistic regression classifier on test set: {:.2f}'.format(logreg.score(Test_X, Test_Y)))"
   ]
  },
  {
   "cell_type": "code",
   "execution_count": 52,
   "id": "26287bb4",
   "metadata": {
    "execution": {
     "iopub.execute_input": "2022-05-09T14:32:21.654915Z",
     "iopub.status.busy": "2022-05-09T14:32:21.654632Z",
     "iopub.status.idle": "2022-05-09T14:32:21.669212Z",
     "shell.execute_reply": "2022-05-09T14:32:21.668047Z"
    },
    "papermill": {
     "duration": 0.104944,
     "end_time": "2022-05-09T14:32:21.671135",
     "exception": false,
     "start_time": "2022-05-09T14:32:21.566191",
     "status": "completed"
    },
    "tags": []
   },
   "outputs": [
    {
     "name": "stdout",
     "output_type": "stream",
     "text": [
      "[[377 123]\n",
      " [127 373]]\n"
     ]
    }
   ],
   "source": [
    "from sklearn.metrics import confusion_matrix\n",
    "confusion_matrix = confusion_matrix(Test_Y, y_pred)\n",
    "print(confusion_matrix)"
   ]
  },
  {
   "cell_type": "code",
   "execution_count": 53,
   "id": "2c6f17ab",
   "metadata": {
    "execution": {
     "iopub.execute_input": "2022-05-09T14:32:21.847088Z",
     "iopub.status.busy": "2022-05-09T14:32:21.846278Z",
     "iopub.status.idle": "2022-05-09T14:32:21.910991Z",
     "shell.execute_reply": "2022-05-09T14:32:21.909162Z"
    },
    "papermill": {
     "duration": 0.156149,
     "end_time": "2022-05-09T14:32:21.914083",
     "exception": false,
     "start_time": "2022-05-09T14:32:21.757934",
     "status": "completed"
    },
    "tags": []
   },
   "outputs": [
    {
     "name": "stdout",
     "output_type": "stream",
     "text": [
      "              precision    recall  f1-score   support\n",
      "\n",
      "       <=50K       0.75      0.75      0.75       500\n",
      "        >50K       0.75      0.75      0.75       500\n",
      "\n",
      "    accuracy                           0.75      1000\n",
      "   macro avg       0.75      0.75      0.75      1000\n",
      "weighted avg       0.75      0.75      0.75      1000\n",
      "\n"
     ]
    }
   ],
   "source": [
    "from sklearn.metrics import classification_report\n",
    "print(classification_report(Test_Y, y_pred))"
   ]
  }
 ],
 "metadata": {
  "kernelspec": {
   "display_name": "Python 3",
   "language": "python",
   "name": "python3"
  },
  "language_info": {
   "codemirror_mode": {
    "name": "ipython",
    "version": 3
   },
   "file_extension": ".py",
   "mimetype": "text/x-python",
   "name": "python",
   "nbconvert_exporter": "python",
   "pygments_lexer": "ipython3",
   "version": "3.7.12"
  },
  "papermill": {
   "default_parameters": {},
   "duration": 70.54341,
   "end_time": "2022-05-09T14:32:22.822987",
   "environment_variables": {},
   "exception": null,
   "input_path": "__notebook__.ipynb",
   "output_path": "__notebook__.ipynb",
   "parameters": {},
   "start_time": "2022-05-09T14:31:12.279577",
   "version": "2.3.4"
  }
 },
 "nbformat": 4,
 "nbformat_minor": 5
}
